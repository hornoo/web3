{
 "cells": [
  {
   "cell_type": "markdown",
   "metadata": {},
   "source": [
    "# Python Tutorial 1"
   ]
  },
  {
   "cell_type": "markdown",
   "metadata": {},
   "source": [
    "## Intro"
   ]
  },
  {
   "cell_type": "markdown",
   "metadata": {},
   "source": [
    "- Python is a general-purpose interpreted, interactive, object-oriented, and high-level programming language. \n",
    "- It was created by Guido van Rossum during 1985- 1990. \n",
    "- Python source code is also available under the GNU General Public License (GPL).\n",
    "- Python standard library is very portable and cross-platform compatible on UNIX, Windows, and Macintosh.\n",
    "- Python Official Website : http://www.python.org/\n"
   ]
  },
  {
   "cell_type": "markdown",
   "metadata": {},
   "source": [
    "## Overview"
   ]
  },
  {
   "cell_type": "markdown",
   "metadata": {},
   "source": [
    "- **Python is Interpreted**: Python is processed at runtime by the interpreter. You do not need to compile your program before executing it. \n",
    "\n",
    "- **Python is Interactive**: You can actually sit at a Python prompt and interact with the interpreter directly to write your programs.\n",
    "\n",
    "- **Python is Object-Oriented**: Python supports Object-Oriented style or technique of programming that encapsulates code within objects.\n"
   ]
  },
  {
   "cell_type": "markdown",
   "metadata": {},
   "source": [
    "## Installing Python"
   ]
  },
  {
   "cell_type": "markdown",
   "metadata": {},
   "source": [
    "If you want to run Python on your own computer, you will need to install it in case is not already installed."
   ]
  },
  {
   "cell_type": "markdown",
   "metadata": {},
   "source": [
    "##### Windows"
   ]
  },
  {
   "cell_type": "markdown",
   "metadata": {},
   "source": [
    "You can download Python for Windows from the website https://www.python.org/. Download a 3.X Python version for future compatibility with Django. After downloading the *.msi file, you should run it (double-click on it) and follow the instructions there. \n",
    "\n",
    "I strongly advise however to download Anaconda (https://www.continuum.io/downloads), a completely free Python distribution, which includes more than 400 of the most popular Python packages some of which we will heavily use during the next paper sessions."
   ]
  },
  {
   "cell_type": "markdown",
   "metadata": {},
   "source": [
    "##### Linux"
   ]
  },
  {
   "cell_type": "markdown",
   "metadata": {},
   "source": [
    "It is very likely that you already have Python installed out of the box. To check if you have it installed (and which version it is), open a console and type the following command:"
   ]
  },
  {
   "cell_type": "raw",
   "metadata": {},
   "source": [
    "$ python3 --version"
   ]
  },
  {
   "cell_type": "markdown",
   "metadata": {},
   "source": [
    "If you have an old version of Python installed, or if you don't have Python installed, you can install it as follows:"
   ]
  },
  {
   "cell_type": "markdown",
   "metadata": {},
   "source": [
    "###### Debian or Ubuntu"
   ]
  },
  {
   "cell_type": "raw",
   "metadata": {},
   "source": [
    "$ sudo apt-get install python3.4"
   ]
  },
  {
   "cell_type": "markdown",
   "metadata": {},
   "source": [
    "###### Fedora (22+)"
   ]
  },
  {
   "cell_type": "raw",
   "metadata": {},
   "source": [
    "$ sudo dnf install python3"
   ]
  },
  {
   "cell_type": "markdown",
   "metadata": {},
   "source": [
    "##### OS X"
   ]
  },
  {
   "cell_type": "markdown",
   "metadata": {},
   "source": [
    "You need to go to the website https://www.python.org and download the latest Python installer.  Double click python-3.X.X-macosx10.6.pkg to run the installer. "
   ]
  },
  {
   "cell_type": "markdown",
   "metadata": {},
   "source": [
    "## Running Python"
   ]
  },
  {
   "cell_type": "markdown",
   "metadata": {},
   "source": [
    "- Interactive interpreter ![](./images/interactiveInterpreter.png)\n",
    "\n",
    "- Script from the command line ![](./images/script.png)\n",
    "\n",
    "- Integrated development environment (IDE) ![](./images/ide.png)\n",
    "\n",
    "- Python notebook ![](./images/pythonNotebook.png)\n"
   ]
  },
  {
   "cell_type": "markdown",
   "metadata": {},
   "source": [
    "---"
   ]
  },
  {
   "cell_type": "markdown",
   "metadata": {},
   "source": [
    "## Basic syntax"
   ]
  },
  {
   "cell_type": "markdown",
   "metadata": {},
   "source": [
    "### Interactive mode programming"
   ]
  },
  {
   "cell_type": "markdown",
   "metadata": {},
   "source": [
    "Invoke Python 3.5 or 2.7 interpreter by typing *python* In the command prompt. \n",
    "![](./images/cmd.png)"
   ]
  },
  {
   "cell_type": "markdown",
   "metadata": {},
   "source": [
    "Type the following text at the Python prompt and press Enter:"
   ]
  },
  {
   "cell_type": "code",
   "execution_count": 1,
   "metadata": {
    "collapsed": false
   },
   "outputs": [
    {
     "name": "stdout",
     "output_type": "stream",
     "text": [
      "Hello World!\n"
     ]
    }
   ],
   "source": [
    "print(\"Hello World!\")"
   ]
  },
  {
   "cell_type": "markdown",
   "metadata": {},
   "source": [
    "fdassfdsdasdf"
   ]
  },
  {
   "cell_type": "code",
   "execution_count": 5,
   "metadata": {
    "collapsed": false
   },
   "outputs": [],
   "source": []
  },
  {
   "cell_type": "code",
   "execution_count": 6,
   "metadata": {
    "collapsed": false
   },
   "outputs": [
    {
     "name": "stdout",
     "output_type": "stream",
     "text": [
      "d\n"
     ]
    }
   ],
   "source": [
    "print \"d\""
   ]
  },
  {
   "cell_type": "markdown",
   "metadata": {},
   "source": [
    "### Script mode programming"
   ]
  },
  {
   "cell_type": "markdown",
   "metadata": {},
   "source": [
    "Create a file **test.py**. Inside the file write the previous Python statement.\n",
    "Save the file and try to run the program as follows:\n",
    "![](./images/helloWorld.png)"
   ]
  },
  {
   "cell_type": "markdown",
   "metadata": {},
   "source": [
    "### Integrated development environment (IDE) programming"
   ]
  },
  {
   "cell_type": "markdown",
   "metadata": {},
   "source": [
    "Open the Spyder IDE:\n",
    "1. Click Windows start button\n",
    "2. Click All Programs \n",
    "3. Click All programs \n",
    "4. Click python(x,y)\n",
    "5. Click Spyder folder\n",
    "6. Click Spyder icon\n",
    "\n",
    "Type your previous Hello world program Into the editor. Then press the **Run File** button ![](./images/run.png). \n"
   ]
  },
  {
   "cell_type": "markdown",
   "metadata": {},
   "source": [
    "### Python identifiers"
   ]
  },
  {
   "cell_type": "markdown",
   "metadata": {},
   "source": [
    "A Python identifier is a name used to identify a variable, function, class, module or other object. An identifier starts with a letter A to Z or a to z or an underscore (_) followed by zero or more letters, underscores and digits (0 to 9).\n",
    "\n",
    "Python does not allow punctuation characters such as @, $, and % within identifiers. Python is a case sensitive programming language. Thus, Manpower and manpower are two different identifiers in Python.\n",
    "\n",
    "Here are the naming conventions for Python identifiers:\n",
    "\n",
    "- Class names start with an uppercase letter. All other identifiers start with a lowercase letter.\n",
    "\n",
    "- Starting an identifier with a single leading underscore indicates that the identifier is private.\n",
    "\n",
    "- Starting an identifier with two leading underscores indicates a strongly private identifier.\n",
    "\n",
    "- If the identifier also ends with two trailing underscores, the identifier is a language-defined special name."
   ]
  },
  {
   "cell_type": "markdown",
   "metadata": {},
   "source": [
    "### Reserved words"
   ]
  },
  {
   "cell_type": "markdown",
   "metadata": {},
   "source": [
    "The following list shows the Python keywords. These are reserved words and you cannot use them as constant or variable or any other identifier names. All the Python keywords contain lowercase letters only.\n",
    "\n",
    "and | exec | not\n",
    "--- | --- | ---\n",
    "**assert** | **finally** | **or**\n",
    "**break** | **for** | **pass**\n",
    "**class** | **from** | **print**\n",
    "**continue** | **global** | **raise**\n",
    "**def** | **if** | **return**\n",
    "**del** | **import** | **try**\n",
    "**elif** | **in** | **while**\n",
    "**else** | **is** | **with**\n",
    "**except** | **lambda** | **yield**"
   ]
  },
  {
   "cell_type": "markdown",
   "metadata": {},
   "source": [
    "### Lines and indentation"
   ]
  },
  {
   "cell_type": "markdown",
   "metadata": {},
   "source": [
    "Python provides no braces to indicate blocks of code for class and function definitions or flow control. Blocks of code are denoted by line indentation, which is rigidly enforced.\n",
    "\n",
    "The number of spaces in the indentation is variable, but all statements within the block must be indented the same amount"
   ]
  },
  {
   "cell_type": "code",
   "execution_count": 3,
   "metadata": {
    "collapsed": false
   },
   "outputs": [
    {
     "name": "stdout",
     "output_type": "stream",
     "text": [
      "i is NOT equal to 1\n"
     ]
    }
   ],
   "source": [
    "i = 3\n",
    "if i==1:\n",
    "    print(\"i is equal to 1\")\n",
    "else:\n",
    "    print(\"i is NOT equal to 1\")"
   ]
  },
  {
   "cell_type": "markdown",
   "metadata": {},
   "source": [
    "### Comments in Python"
   ]
  },
  {
   "cell_type": "markdown",
   "metadata": {},
   "source": [
    "A hash sign (#) that is not inside a string literal begins a comment. All characters after the # and up to the end of the physical line are part of the comment and the Python interpreter ignores them."
   ]
  },
  {
   "cell_type": "code",
   "execution_count": 4,
   "metadata": {
    "collapsed": false
   },
   "outputs": [
    {
     "name": "stdout",
     "output_type": "stream",
     "text": [
      "Hey\n"
     ]
    }
   ],
   "source": [
    "# First comment\n",
    "print(\"Hey\") # second comment"
   ]
  },
  {
   "cell_type": "markdown",
   "metadata": {},
   "source": [
    "For multiline comments you can also use triple quotes"
   ]
  },
  {
   "cell_type": "code",
   "execution_count": 6,
   "metadata": {
    "collapsed": false
   },
   "outputs": [
    {
     "name": "stdout",
     "output_type": "stream",
     "text": [
      "Hey yo'll##\n"
     ]
    }
   ],
   "source": [
    "\"\"\"\n",
    "Very long comment XXXXXXXXXXXXXXXXXXXXXXXXXXXXXXXXXXXXXXXXXXXXXXXXXXXXXX\n",
    "XXXXXXXXXXXXXXXXXXXXXXXXXXXXXXXXXXX\n",
    "XXXXXXXXXXXXXXXXXXXXXXXXXXXXXXXXXXX\n",
    "XXXXXXXXXXXXXXXXXXXXXXXXXXX\n",
    "\"\"\"\n",
    "print(\"Hey yo'll##\") "
   ]
  },
  {
   "cell_type": "markdown",
   "metadata": {},
   "source": [
    "### Obtaining user input"
   ]
  },
  {
   "cell_type": "markdown",
   "metadata": {},
   "source": [
    "The following line of the program displays to the prompt the statement saying “What is your name?”, waits for the user to take action and stores the input string in the variable **userName**."
   ]
  },
  {
   "cell_type": "code",
   "execution_count": 2,
   "metadata": {
    "collapsed": false
   },
   "outputs": [
    {
     "name": "stdout",
     "output_type": "stream",
     "text": [
      "What is your name?richard\n",
      "richard\n"
     ]
    }
   ],
   "source": [
    "userName = input(\"What is your name?\")\n",
    "print(userName)"
   ]
  },
  {
   "cell_type": "markdown",
   "metadata": {},
   "source": [
    "---"
   ]
  },
  {
   "cell_type": "markdown",
   "metadata": {},
   "source": [
    "## Variable types"
   ]
  },
  {
   "cell_type": "markdown",
   "metadata": {},
   "source": [
    "In programming languages variables are reserved memory locations to store values. Hence, when you create a variable, you reserve some space in memory. Based on the data type of a variable, the interpreter allocates memory and decides what can be stored in the reserved memory. \n",
    "\n",
    "Python variables do not need explicit declaration to reserve memory space. The declaration happens automatically when you assign a value to a variable."
   ]
  },
  {
   "cell_type": "code",
   "execution_count": 15,
   "metadata": {
    "collapsed": false
   },
   "outputs": [
    {
     "name": "stdout",
     "output_type": "stream",
     "text": [
      "3\n",
      "80.5\n",
      "David\n",
      "[18, 15, 20, 22, 17]\n",
      "{'john': 84, 'scott': 92, 'Richard': 79}\n"
     ]
    }
   ],
   "source": [
    "counter = 3          # An integer assignment\n",
    "weight   = 80.5       # A floating point\n",
    "name    = \"David\"       # A string\n",
    "temperatures = [18, 15, 20, 22, 17] # A list\n",
    "grades = {'Richard': 79, 'john': 84, 'scott': 92} # A dictionary\n",
    "\n",
    "print counter\n",
    "print weight\n",
    "print name\n",
    "print temperatures\n",
    "print grades"
   ]
  },
  {
   "cell_type": "markdown",
   "metadata": {},
   "source": [
    "### Numbers"
   ]
  },
  {
   "cell_type": "markdown",
   "metadata": {},
   "source": [
    "Number data types store numeric values. They are immutable data types, means that changing the value of a number data type results in a newly allocated object.\n",
    "\n",
    "Python supports 4 different numerical types: integers (int), long integers (long), floating-point real values (float) and complex numbers (complex). Examples are given below:\n",
    "\n",
    "|int|long|float|complex|\n",
    "|---|----|-----|-------|\n",
    "|10 |51924361L  |5.67   |3+12j|\n",
    "\n",
    "Different number of types can be converted using global functions."
   ]
  },
  {
   "cell_type": "code",
   "execution_count": 16,
   "metadata": {
    "collapsed": false
   },
   "outputs": [
    {
     "name": "stdout",
     "output_type": "stream",
     "text": [
      "3\n",
      "<type 'long'>\n",
      "10.0\n",
      "(10+0j)\n"
     ]
    }
   ],
   "source": [
    "i = 10\n",
    "l = 51924361L\n",
    "f = 5.67\n",
    "c = 3+12j\n",
    "print int(3.4)\n",
    "print type(long(i))\n",
    "print float(i)\n",
    "print complex(i)"
   ]
  },
  {
   "cell_type": "markdown",
   "metadata": {},
   "source": [
    "##### Mathematical functions"
   ]
  },
  {
   "cell_type": "markdown",
   "metadata": {},
   "source": [
    "Python includes several functions that perform mathematical calculations"
   ]
  },
  {
   "cell_type": "code",
   "execution_count": 17,
   "metadata": {
    "collapsed": false
   },
   "outputs": [
    {
     "name": "stdout",
     "output_type": "stream",
     "text": [
      "abs(-3): 3\n",
      "math.ceil(3.3): 4.0\n",
      "math.floor(3.3): 3.0\n",
      "round(7.3422323,2): 7.34\n",
      "cmp(3,4): -1\n",
      "math.exp(1): 2.71828182846\n",
      "math.log(10): 2.30258509299\n",
      "math.log10(x): 1.0\n",
      "max(3,7,2): 7\n",
      "min(3,7,2): 2\n",
      "sqrt(25): 5.0\n"
     ]
    }
   ],
   "source": [
    "import math\n",
    "print \"abs(-3):\", abs(-3) # The absolute value of x: the (positive) distance between x and zero.\n",
    "print \"math.ceil(3.3):\", math.ceil(3.3) #The ceiling of x: the smallest integer not less than x\n",
    "print \"math.floor(3.3):\", math.floor(3.3) #The floor of x: the largest integer not greater than x\n",
    "print \"round(7.3422323,2):\", round(7.3422323,2) #x rounded to n digits from the decimal point. \n",
    "print \"cmp(3,4):\", cmp(3,4) #-1 if x < y, 0 if x == y, or 1 if x > y\n",
    "print \"math.exp(1):\", math.exp(1)#The exponential of x: e^x\n",
    "print \"math.log(10):\", math.log(10) #The natural logarithm of x, for x> 0\n",
    "print \"math.log10(x):\", math.log10(10) #The base 10 logarithm of x, for x> 0\n",
    "print \"max(3,7,2):\", max(3,7,2) #The largest of its arguments\n",
    "print \"min(3,7,2):\", min(3,7,2) #The smallest of its arguments\n",
    "print \"sqrt(25):\", math.sqrt(25) # The square root of x"
   ]
  },
  {
   "cell_type": "markdown",
   "metadata": {},
   "source": [
    "#### Random Number Functions"
   ]
  },
  {
   "cell_type": "markdown",
   "metadata": {},
   "source": [
    "Random numbers are used for games, simulations, testing, security, and privacy applications. Python includes following functions that are commonly used."
   ]
  },
  {
   "cell_type": "code",
   "execution_count": 68,
   "metadata": {
    "collapsed": false
   },
   "outputs": [
    {
     "name": "stdout",
     "output_type": "stream",
     "text": [
      "choice([7,2,9,3,0,1]) :  9\n",
      "choice('Also works with strings') :  s\n",
      "randrange(1, 20) :  18\n",
      "random() :  0.813664356686\n",
      "random() :  0.403400040901\n",
      "Reshuffled list :  [5, 4, 1, 2, 3]\n"
     ]
    }
   ],
   "source": [
    "import random\n",
    "import time\n",
    "\n",
    "\"\"\"\n",
    "The method seed() sets the integer starting value used in generating random \n",
    "numbers. Call this function before calling any other random module function.\n",
    "\"\"\"\n",
    "random.seed(time.time())\n",
    "\n",
    "#The method choices selects a random item from a list, tuple, or string.\n",
    "print \"choice([7,2,9,3,0,1]) : \", random.choice([7,2,9,3,0,1])\n",
    "print \"choice('Also works with strings') : \", random.choice('Also works with strings')\n",
    "\n",
    "#The method randrange() returns a randomly selected element from range(start, stop)\n",
    "print \"randrange(1, 20) : \", random.randrange(1, 20)\n",
    "\n",
    "#The method random() returns a random float r, such that 0 <= r < 1.\n",
    "print \"random() : \", random.random()\n",
    "print \"random() : \", random.random()\n",
    "\n",
    "#The method shuffle() randomizes the items of a list in place.\n",
    "list = [1,2,3,4,5];\n",
    "random.shuffle(list)\n",
    "print \"Reshuffled list : \",  list"
   ]
  },
  {
   "cell_type": "markdown",
   "metadata": {},
   "source": [
    "### Strings"
   ]
  },
  {
   "cell_type": "markdown",
   "metadata": {},
   "source": [
    "Strings in Python are identified as a contiguous set of characters represented in the quotation marks. Python allows for either pairs of single or double quotes. Subsets of strings can be taken using the slice operator ([ ] and [:] ) with indexes starting at 0 in the beginning of the string and working their way from -1 at the end. The plus (+) sign is the string concatenation operator and the asterisk (*) is the repetition operator."
   ]
  },
  {
   "cell_type": "code",
   "execution_count": 22,
   "metadata": {
    "collapsed": false
   },
   "outputs": [
    {
     "name": "stdout",
     "output_type": "stream",
     "text": [
      "Richard\n",
      "R\n",
      "cha\n",
      "chard\n",
      "RichardRichard\n",
      "Richard TEST\n",
      "True\n",
      "False\n",
      "My name is Richard and I am 23 years old!\n"
     ]
    }
   ],
   "source": [
    "name = \"Richard\"\n",
    "print name          # Prints complete string\n",
    "print name[0]       # Prints first character of the string\n",
    "print name[2:-2]     # Prints characters starting from 3rd to 5th\n",
    "print name[2:]      # Prints string starting from 3rd character\n",
    "print name * 2      # Prints string two times\n",
    "print name + \" TEST\" # Prints concatenated string\n",
    "print \"a\" in name\n",
    "print \"x\" in name\n",
    "print \"My name is %s and I am %d years old!\" % (name, 23) "
   ]
  },
  {
   "cell_type": "markdown",
   "metadata": {},
   "source": [
    "#### Built-in String Methods"
   ]
  },
  {
   "cell_type": "markdown",
   "metadata": {},
   "source": [
    "Python includes the following built-in methods to manipulate strings"
   ]
  },
  {
   "cell_type": "code",
   "execution_count": 23,
   "metadata": {
    "collapsed": false
   },
   "outputs": [
    {
     "name": "stdout",
     "output_type": "stream",
     "text": [
      "Richard\n",
      "RICHARD\n",
      "1\n",
      "-1\n",
      "7\n",
      "['Rich', 'rd']\n"
     ]
    }
   ],
   "source": [
    "name = \"Richard\"\n",
    "print name.capitalize() #Capitalizes first letter of string\n",
    "print name.upper() #Converts lowercase letters in string to uppercase\n",
    "print name.count(\"a\") #Counts how many times argument occurs in string\n",
    "print name.find(\"x\") #Determine if argument occurs in string and returns index of match\n",
    "print len(name) #Returns the length of the string\n",
    "print name.split(\"a\") #Splits string according to delimiter argument"
   ]
  },
  {
   "cell_type": "markdown",
   "metadata": {},
   "source": [
    "### Lists"
   ]
  },
  {
   "cell_type": "markdown",
   "metadata": {},
   "source": [
    "Lists are similar to arrays in C. One difference in Python is that all the items belonging to a list can be of different data types. List indices start at 0."
   ]
  },
  {
   "cell_type": "code",
   "execution_count": 34,
   "metadata": {
    "collapsed": false
   },
   "outputs": [
    {
     "name": "stdout",
     "output_type": "stream",
     "text": [
      "['old', 786, 2.23, 'john', 70.2]\n",
      "old\n",
      "70.2\n",
      "[786, 2.23]\n",
      "[2.23, 'john', 70.2]\n",
      "[66, 'peter', 66, 'peter']\n",
      "['old', 786, 2.23, 'john', 70.2, 66, 'peter']\n",
      "['new', 786, 2.23, 'john', 70.2]\n"
     ]
    }
   ],
   "source": [
    "list = [ 'old', 786 , 2.23, 'john', 70.2 ]\n",
    "tinylist = [66, 'peter']\n",
    "\n",
    "print list          # Prints complete list\n",
    "print list[0]       # Prints first element of the list\n",
    "print list[-1]       # Prints last element of the list\n",
    "print list[1:3]     # Prints elements starting from 2nd till 3rd \n",
    "print list[2:]      # Prints elements starting from 3rd element\n",
    "print tinylist * 2  # Prints list two times\n",
    "print list + tinylist # Prints concatenated lists\n",
    "list[0] = 'new'\n",
    "print list"
   ]
  },
  {
   "cell_type": "markdown",
   "metadata": {},
   "source": [
    "#### Built-in List Functions"
   ]
  },
  {
   "cell_type": "code",
   "execution_count": 24,
   "metadata": {
    "collapsed": false
   },
   "outputs": [
    {
     "name": "stdout",
     "output_type": "stream",
     "text": [
      "-1\n",
      "5\n",
      "z\n",
      "2\n"
     ]
    }
   ],
   "source": [
    "l1 = [2,4,7,3,8]\n",
    "l2 = [\"b\",\"z\",\"a\",\"r\",\"m\"]\n",
    "print cmp(l1,l2) #Compares elements of both lists.\n",
    "print len(l1) #Gives the total length of the list.\n",
    "print max(l2) #Returns item from the list with max value.\n",
    "print min(l1) #Returns item from the list with min value."
   ]
  },
  {
   "cell_type": "markdown",
   "metadata": {},
   "source": [
    "#### Built-in List Methods"
   ]
  },
  {
   "cell_type": "code",
   "execution_count": 25,
   "metadata": {
    "collapsed": false
   },
   "outputs": [
    {
     "name": "stdout",
     "output_type": "stream",
     "text": [
      "2\n",
      "['a', 'e', 'i', 'o', 'u']\n",
      "['a', 'a', 'e', 'i', 'o', 'u']\n",
      "['a', 'a', 'e', 'i', 'o']\n",
      "['a', 'a', 'i', 'o']\n",
      "1\n"
     ]
    }
   ],
   "source": [
    "l1 = [\"a\",\"e\",\"i\",\"o\"]\n",
    "print l1.index(\"i\")\n",
    "l1.append(\"u\")\n",
    "print l1\n",
    "l1.insert(0,\"a\")\n",
    "print l1\n",
    "l1.pop()\n",
    "print l1\n",
    "l1.remove(\"e\")\n",
    "print l1\n",
    "print l1.count(\"i\")"
   ]
  },
  {
   "cell_type": "code",
   "execution_count": 67,
   "metadata": {
    "collapsed": false
   },
   "outputs": [
    {
     "name": "stdout",
     "output_type": "stream",
     "text": [
      "[0, 1, 2, 3, 5, 8]\n",
      "[8, 5, 3, 2, 1, 0]\n"
     ]
    }
   ],
   "source": [
    "l1 = [5,2,8,3,0,1]\n",
    "l1.sort()\n",
    "print l1\n",
    "l1.reverse()\n",
    "print l1"
   ]
  },
  {
   "cell_type": "markdown",
   "metadata": {},
   "source": [
    "### Dictionaries"
   ]
  },
  {
   "cell_type": "markdown",
   "metadata": {},
   "source": [
    "Python's dictionaries are kind of a hash table type. They work like associative arrays or hashes found in other programming languages. Dictionaries consist of key-value pairs. A dictionary key can be almost any Python type, but are usually numbers or strings. Values, on the other hand, can be any arbitrary Python object. Keys are unique within a dictionary while values may not be. Dictionaries have no concept of order among its elements."
   ]
  },
  {
   "cell_type": "code",
   "execution_count": 26,
   "metadata": {
    "collapsed": false
   },
   "outputs": [
    {
     "name": "stdout",
     "output_type": "stream",
     "text": [
      "79\n",
      "{'john': 84, 'peter': 75, 'scott': 92}\n",
      "['john', 'peter', 'scott']\n",
      "[84, 75, 92]\n",
      "{'john': 84, 'peter': 75}\n",
      "2\n",
      "False\n"
     ]
    }
   ],
   "source": [
    "grades = {'peter': 79, 'john': 84, 'scott': 92} # A dictionary\n",
    "print grades['peter']       # Prints value for 'peter' key\n",
    "grades['peter'] = 75 #update existing entry\n",
    "print grades          # Prints complete dictionary\n",
    "print grades.keys()   # Prints all the keys\n",
    "print grades.values() # Prints all the values\n",
    "del grades['scott'] #removes entry with key 'scott'\n",
    "print grades\n",
    "print len(grades) #returns the number of items in the dictionary\n",
    "print grades.has_key(\"tom\") #Returns true if key in dictionary dict, false otherwise"
   ]
  },
  {
   "cell_type": "markdown",
   "metadata": {},
   "source": [
    "---"
   ]
  },
  {
   "cell_type": "markdown",
   "metadata": {},
   "source": [
    "## Data type conversion"
   ]
  },
  {
   "cell_type": "markdown",
   "metadata": {},
   "source": [
    "Sometimes, you may need to perform conversions between the built-in types. To convert between types, you simply use the type name as a function."
   ]
  },
  {
   "cell_type": "code",
   "execution_count": 27,
   "metadata": {
    "collapsed": false
   },
   "outputs": [
    {
     "name": "stdout",
     "output_type": "stream",
     "text": [
      "2\n",
      "1.0\n",
      "1abc\n"
     ]
    }
   ],
   "source": [
    "x = 1\n",
    "f = 2.3\n",
    "s = \"aeiou\"\n",
    "print(int(f))\n",
    "print(float(x))\n",
    "print(str(x)+\"abc\")"
   ]
  },
  {
   "cell_type": "markdown",
   "metadata": {},
   "source": [
    "---"
   ]
  },
  {
   "cell_type": "markdown",
   "metadata": {},
   "source": [
    "## Python basic operators"
   ]
  },
  {
   "cell_type": "markdown",
   "metadata": {},
   "source": [
    "Operators are the constructs which can manipulate the value of operands. Consider the expression <font color='red'>4</font> <font color='blue'>+</font> <font color='red'>5</font> = 9. Here, <font color='red'>4</font> and <font color='red'>5</font> are called <font color='red'>operands</font> and <font color='blue'>+</font> is called <font color='blue'>operator</font>."
   ]
  },
  {
   "cell_type": "markdown",
   "metadata": {},
   "source": [
    "### Python arithmetic operators"
   ]
  },
  {
   "cell_type": "code",
   "execution_count": 50,
   "metadata": {
    "collapsed": false
   },
   "outputs": [
    {
     "name": "stdout",
     "output_type": "stream",
     "text": [
      "5\n",
      "1\n",
      "6\n",
      "2\n",
      "2\n",
      "8\n"
     ]
    }
   ],
   "source": [
    "print(3+2) #Adds values on either side of the operator\n",
    "print(5-4) #Subtracts right hand operand from left hand operand\n",
    "print(3*2) #Multiplies values on either side of the operator\n",
    "print(6/3) #Divides left hand operand by right hand operand\n",
    "print(5%3) #Divides left hand operand by right hand operand and returns remainder\n",
    "print(2**3) #Performs exponential (power) calculation on operators\n",
    "\n"
   ]
  },
  {
   "cell_type": "markdown",
   "metadata": {},
   "source": [
    "### Python comparison operators"
   ]
  },
  {
   "cell_type": "markdown",
   "metadata": {},
   "source": [
    "These operators compare the values on either sides of them and decide the relation among them. They are also called Relational operators."
   ]
  },
  {
   "cell_type": "code",
   "execution_count": 28,
   "metadata": {
    "collapsed": false
   },
   "outputs": [
    {
     "name": "stdout",
     "output_type": "stream",
     "text": [
      "True\n",
      "False\n",
      "False\n",
      "True\n",
      "False\n",
      "True\n"
     ]
    }
   ],
   "source": [
    "print(2==2)\n",
    "print(2==3)\n",
    "print(2!=2)\n",
    "print(2!=3)\n",
    "print(2<2)\n",
    "print(2<=2)"
   ]
  },
  {
   "cell_type": "markdown",
   "metadata": {},
   "source": [
    "### Python assignment operators"
   ]
  },
  {
   "cell_type": "code",
   "execution_count": 63,
   "metadata": {
    "collapsed": false
   },
   "outputs": [
    {
     "name": "stdout",
     "output_type": "stream",
     "text": [
      "1\n",
      "2\n",
      "4\n"
     ]
    }
   ],
   "source": [
    "x = 1\n",
    "print(x)\n",
    "x += 1\n",
    "print(x)\n",
    "x *= 2\n",
    "print(x)"
   ]
  },
  {
   "cell_type": "markdown",
   "metadata": {},
   "source": [
    "### Python logical operators"
   ]
  },
  {
   "cell_type": "code",
   "execution_count": 76,
   "metadata": {
    "collapsed": false
   },
   "outputs": [
    {
     "name": "stdout",
     "output_type": "stream",
     "text": [
      "True\n",
      "False\n",
      "True\n",
      "False\n"
     ]
    }
   ],
   "source": [
    "print(True and True)\n",
    "print(True and False)\n",
    "print(True or False)\n",
    "print(not True)"
   ]
  },
  {
   "cell_type": "markdown",
   "metadata": {},
   "source": [
    "### Python Identity Operators"
   ]
  },
  {
   "cell_type": "code",
   "execution_count": 29,
   "metadata": {
    "collapsed": false
   },
   "outputs": [
    {
     "data": {
      "text/plain": [
       "True"
      ]
     },
     "execution_count": 29,
     "metadata": {},
     "output_type": "execute_result"
    }
   ],
   "source": [
    "x = 1\n",
    "y = 1\n",
    "x is y"
   ]
  },
  {
   "cell_type": "markdown",
   "metadata": {},
   "source": [
    "### Python Membership Operators"
   ]
  },
  {
   "cell_type": "code",
   "execution_count": 30,
   "metadata": {
    "collapsed": false
   },
   "outputs": [
    {
     "data": {
      "text/plain": [
       "False"
      ]
     },
     "execution_count": 30,
     "metadata": {},
     "output_type": "execute_result"
    }
   ],
   "source": [
    "3 in [1, 4, 7, 8]"
   ]
  },
  {
   "cell_type": "markdown",
   "metadata": {},
   "source": [
    "---"
   ]
  },
  {
   "cell_type": "markdown",
   "metadata": {},
   "source": [
    "## Conditional statements"
   ]
  },
  {
   "cell_type": "markdown",
   "metadata": {},
   "source": [
    "Decision making is anticipation of conditions occurring while execution of the program and specifying actions taken according to the conditions.\n",
    "\n",
    "Decision structures evaluate multiple expressions which produce TRUE or FALSE as outcome. You need to determine which action to take and which statements to execute if outcome is TRUE or FALSE otherwise.\n",
    "\n",
    "Python programming language assumes any non-zero and non-null values as TRUE, and if it is either zero or null, then it is assumed as FALSE value."
   ]
  },
  {
   "cell_type": "code",
   "execution_count": 31,
   "metadata": {
    "collapsed": false
   },
   "outputs": [
    {
     "name": "stdout",
     "output_type": "stream",
     "text": [
      "Value of positiveInteger variable is less or equal to 5\n"
     ]
    }
   ],
   "source": [
    "positiveInteger = 2\n",
    "if positiveInteger <= 5:\n",
    "   print \"Value of positiveInteger variable is less or equal to 5\"\n",
    "elif positiveInteger <= 10:\n",
    "   print \"Value of positiveInteger variable is larger than 5 but less or equal than 10\"\n",
    "else:\n",
    "   print \"Value of positiveInteger is larger than 10\""
   ]
  },
  {
   "cell_type": "markdown",
   "metadata": {},
   "source": [
    "---"
   ]
  },
  {
   "cell_type": "markdown",
   "metadata": {},
   "source": [
    "## Loops"
   ]
  },
  {
   "cell_type": "markdown",
   "metadata": {},
   "source": [
    "While programming you will find situations when you need to execute a block of code several times. Programming languages provide various control structures that allow a loop statement to execute a statement or group of statements multiple times."
   ]
  },
  {
   "cell_type": "markdown",
   "metadata": {},
   "source": [
    "### While loop"
   ]
  },
  {
   "cell_type": "markdown",
   "metadata": {},
   "source": [
    "A while loop statement in Python programming language repeatedly executes a target statement as long as a given condition is true. In the following example notice how in Python, all the statements indented by the same number of character spaces after a programming construct are considered to be part of a single block of code. Python uses indentation as its method of grouping statements."
   ]
  },
  {
   "cell_type": "code",
   "execution_count": 32,
   "metadata": {
    "collapsed": false
   },
   "outputs": [
    {
     "name": "stdout",
     "output_type": "stream",
     "text": [
      "The count is: 0\n",
      "The count is: 1\n",
      "The count is: 2\n",
      "The count is: 3\n",
      "The count is: 4\n",
      "Good bye!\n"
     ]
    }
   ],
   "source": [
    "count = 0\n",
    "while (count < 5):\n",
    "   print 'The count is:', count\n",
    "   count = count + 1\n",
    "\n",
    "print \"Good bye!\""
   ]
  },
  {
   "cell_type": "markdown",
   "metadata": {},
   "source": [
    "A loop becomes infinite loop if a condition never becomes FALSE. You must use caution when using while loops because of the possibility that this condition never resolves to a FALSE value. This results in a loop that never ends. Such a loop is called an infinite loop.\n",
    "\n",
    "An infinite loop might be useful in client/server programming where the server needs to run continuously so that client programs can communicate with it as and when required.\n",
    "\n",
    "Run the following code in a Spyder:"
   ]
  },
  {
   "cell_type": "code",
   "execution_count": null,
   "metadata": {
    "collapsed": false
   },
   "outputs": [
    {
     "name": "stdout",
     "output_type": "stream",
     "text": [
      "Enter a number  :1\n",
      "You entered:  1\n",
      "Enter a number  :1\n",
      "You entered:  1\n",
      "Enter a number  :1\n",
      "You entered:  1\n",
      "Enter a number  :1\n",
      "You entered:  1\n",
      "Enter a number  :1\n",
      "You entered:  1\n",
      "Enter a number  :1\n",
      "You entered:  1\n",
      "Enter a number  :1\n",
      "You entered:  1\n",
      "Enter a number  :1\n",
      "You entered:  1\n",
      "Enter a number  :1\n",
      "You entered:  1\n",
      "Enter a number  :1\n",
      "You entered:  1\n",
      "Enter a number  :1\n",
      "You entered:  1\n",
      "Enter a number  :1\n",
      "You entered:  1\n",
      "Enter a number  :10\n",
      "You entered:  10\n"
     ]
    }
   ],
   "source": [
    "var = 1\n",
    "while var == 1 :  # This constructs an infinite loop\n",
    "   num = raw_input(\"Enter a number  :\")\n",
    "   print \"You entered: \", num\n",
    "\n",
    "print \"Good bye!\""
   ]
  },
  {
   "cell_type": "markdown",
   "metadata": {},
   "source": [
    "### Foor loop"
   ]
  },
  {
   "cell_type": "markdown",
   "metadata": {},
   "source": [
    "A for loop in Python has the ability to iterate over the items of any sequence, such as a list or a string"
   ]
  },
  {
   "cell_type": "code",
   "execution_count": null,
   "metadata": {
    "collapsed": false
   },
   "outputs": [],
   "source": [
    "for letter in 'Python':     # First Example\n",
    "   print 'Current Letter :', letter\n",
    "\n",
    "fruits = ['banana', 'apple',  'mango']\n",
    "for fruit in fruits:        # Second Example\n",
    "   print 'Current fruit :', fruit\n",
    "    \n",
    "for i in range(1,5):    \n",
    "   print i"
   ]
  },
  {
   "cell_type": "markdown",
   "metadata": {},
   "source": [
    "### Loop Control Statements"
   ]
  },
  {
   "cell_type": "markdown",
   "metadata": {},
   "source": [
    "Loop control statements change execution from its normal sequence."
   ]
  },
  {
   "cell_type": "markdown",
   "metadata": {},
   "source": [
    "#### break statement"
   ]
  },
  {
   "cell_type": "markdown",
   "metadata": {},
   "source": [
    "A break a statement inside the current loop, terminates the loop and resumes execution at the next statement after the loop.\n",
    "\n",
    "The most common use for break is when some external condition is triggered requiring a hasty exit from a loop. The break statement can be used in both while and for loops."
   ]
  },
  {
   "cell_type": "code",
   "execution_count": 8,
   "metadata": {
    "collapsed": false
   },
   "outputs": [
    {
     "name": "stdout",
     "output_type": "stream",
     "text": [
      "Current Letter : P\n",
      "Current Letter : y\n",
      "Current Letter : t\n"
     ]
    }
   ],
   "source": [
    "for letter in 'Python':     \n",
    "   if letter == 'h':\n",
    "      break\n",
    "   print 'Current Letter :', letter"
   ]
  },
  {
   "cell_type": "markdown",
   "metadata": {},
   "source": [
    "#### Continue statement"
   ]
  },
  {
   "cell_type": "markdown",
   "metadata": {},
   "source": [
    "A continue statement returns the control to the beginning of the loop, rejecting the remaining statements in the current iteration of the loop and moving back control to the top of the loop for the next iteration. The continue statement can be used in both while and for loops."
   ]
  },
  {
   "cell_type": "code",
   "execution_count": 9,
   "metadata": {
    "collapsed": false
   },
   "outputs": [
    {
     "name": "stdout",
     "output_type": "stream",
     "text": [
      "Current Letter : P\n",
      "Current Letter : y\n",
      "Current Letter : t\n",
      "Current Letter : o\n",
      "Current Letter : n\n"
     ]
    }
   ],
   "source": [
    "for letter in 'Python':     \n",
    "   if letter == 'h':\n",
    "      continue\n",
    "   print 'Current Letter :', letter"
   ]
  },
  {
   "cell_type": "markdown",
   "metadata": {},
   "source": [
    "#### Pass statement"
   ]
  },
  {
   "cell_type": "markdown",
   "metadata": {},
   "source": [
    "The pass statement is a null operation; nothing happens when it executes. The pass is also useful in places where your code will eventually go, but has not been written yet."
   ]
  },
  {
   "cell_type": "code",
   "execution_count": null,
   "metadata": {
    "collapsed": false
   },
   "outputs": [],
   "source": [
    "for letter in 'Python': \n",
    "   if letter == 'h':\n",
    "      pass #Some code will be added here in the future to deal with this situation\n",
    "   print 'Current Letter :', letter"
   ]
  },
  {
   "cell_type": "markdown",
   "metadata": {},
   "source": [
    "---"
   ]
  },
  {
   "cell_type": "markdown",
   "metadata": {},
   "source": [
    "## Functions"
   ]
  },
  {
   "cell_type": "markdown",
   "metadata": {},
   "source": [
    "A function is a block of organized, reusable code that is used to perform a single, related action. Functions provide better modularity for your application and a high degree of code reusing.\n",
    "\n",
    "Python provides many built-in functions like print(), etc. but you can also create your own functions. These functions are called user-defined functions."
   ]
  },
  {
   "cell_type": "code",
   "execution_count": null,
   "metadata": {
    "collapsed": false
   },
   "outputs": [],
   "source": [
    "def printUpperCase(string):\n",
    "    \"This funtions turns the input argument string into upper case and prints the result\"\n",
    "    stringUpperCase = string.upper()\n",
    "    print stringUpperCase\n",
    "\n",
    "printUpperCase(\"This is a test\") #In this line we are calling the function previously defined\n"
   ]
  },
  {
   "cell_type": "markdown",
   "metadata": {},
   "source": [
    "All parameters (arguments) in the Python language are passed by reference. It means if you change what a parameter refers to within a function, the change also reflects back in the calling function. For example "
   ]
  },
  {
   "cell_type": "code",
   "execution_count": 10,
   "metadata": {
    "collapsed": false
   },
   "outputs": [
    {
     "name": "stdout",
     "output_type": "stream",
     "text": [
      "Values of myList inside the function:  [10, 20, 30, 5]\n",
      "Values outside the function:  [10, 20, 30, 5]\n"
     ]
    }
   ],
   "source": [
    "# Function definition is here\n",
    "def changeme( mylist ):\n",
    "   \"This functions changes a passed list by appending a number to the end\"\n",
    "   mylist.append(5);\n",
    "   print \"Values of myList inside the function: \", myList\n",
    "   return\n",
    "\n",
    "# Now you can call changeme function\n",
    "myList = [10,20,30];\n",
    "changeme( myList );\n",
    "print \"Values outside the function: \", myList"
   ]
  },
  {
   "cell_type": "markdown",
   "metadata": {},
   "source": [
    "When you use keyword arguments in a function call, the caller identifies the arguments by the parameter name and the order of parameters does not matter."
   ]
  },
  {
   "cell_type": "code",
   "execution_count": 12,
   "metadata": {
    "collapsed": false
   },
   "outputs": [
    {
     "name": "stdout",
     "output_type": "stream",
     "text": [
      "Name:  Peter\n",
      "Age  35\n"
     ]
    }
   ],
   "source": [
    "# Function definition is here\n",
    "def printinfo( name, age ):\n",
    "   \"This prints a passed info into this function\"\n",
    "   print \"Name: \", name\n",
    "   print \"Age \", age\n",
    "   return;\n",
    "\n",
    "# Now you can call printinfo function\n",
    "printinfo( age=35, name=\"Peter\" )"
   ]
  },
  {
   "cell_type": "markdown",
   "metadata": {},
   "source": [
    "A default argument is an argument that assumes a default value if a value is not provided in the function call for that argument."
   ]
  },
  {
   "cell_type": "code",
   "execution_count": 15,
   "metadata": {
    "collapsed": false
   },
   "outputs": [
    {
     "name": "stdout",
     "output_type": "stream",
     "text": [
      "Name:  Maria\n",
      "Age  50\n",
      "Name:  Maria\n",
      "Age  35\n"
     ]
    }
   ],
   "source": [
    "# Function definition is here\n",
    "def printinfo( name, age = 35 ):\n",
    "   \"This prints a passed info into this function\"\n",
    "   print \"Name: \", name\n",
    "   print \"Age \", age\n",
    "   return;\n",
    "\n",
    "# Now you can call printinfo function\n",
    "printinfo( age=50, name=\"Maria\" )\n",
    "printinfo( name=\"Maria\" )"
   ]
  },
  {
   "cell_type": "markdown",
   "metadata": {},
   "source": [
    "The statement return [expression] exits a function, optionally passing back an expression to the caller. A return statement with no arguments is the same as return None."
   ]
  },
  {
   "cell_type": "code",
   "execution_count": 18,
   "metadata": {
    "collapsed": false
   },
   "outputs": [
    {
     "name": "stdout",
     "output_type": "stream",
     "text": [
      "Inside the function :  30\n",
      "Outside the function :  30\n"
     ]
    }
   ],
   "source": [
    "# Function definition is here\n",
    "def sum( arg1, arg2 ):\n",
    "   # Add both the parameters and return them.\"\n",
    "   total = arg1 + arg2\n",
    "   print \"Inside the function : \", total\n",
    "   return total;\n",
    "\n",
    "# Now you can call sum function\n",
    "total = sum( 10, 20 );\n",
    "print \"Outside the function : \", total "
   ]
  },
  {
   "cell_type": "markdown",
   "metadata": {},
   "source": [
    "### Anonymous Functions"
   ]
  },
  {
   "cell_type": "markdown",
   "metadata": {},
   "source": [
    "Functions are called anonymous because they are not declared in the standard manner by using the def keyword. You can use the lambda keyword to create small anonymous functions. This is a very similar concept to the anonymous functions in JavaScript that you have seen already."
   ]
  },
  {
   "cell_type": "code",
   "execution_count": 23,
   "metadata": {
    "collapsed": false
   },
   "outputs": [
    {
     "name": "stdout",
     "output_type": "stream",
     "text": [
      "50\n"
     ]
    }
   ],
   "source": [
    "# Function definition is here\n",
    "sum = lambda arg1, arg2: arg1 + arg2;\n",
    " \n",
    "# Now you can call sum as a function\n",
    "print sum( 30, 20 )"
   ]
  },
  {
   "cell_type": "markdown",
   "metadata": {},
   "source": [
    "Scope of Variables"
   ]
  },
  {
   "cell_type": "markdown",
   "metadata": {},
   "source": [
    "All variables in a program may not be accessible at all locations in that program. This depends on where you have declared a variable.\n",
    "\n",
    "The scope of a variable determines the portion of the program where you can access a particular identifier. There are two basic scopes of variables in Python:\n",
    "\n",
    "- Global variables\n",
    "\n",
    "- Local variables\n",
    "\n",
    "Variables that are defined inside a function body have a local scope, and those defined outside have a global scope.\n",
    "\n",
    "This means that local variables can be accessed only inside the function in which they are declared, whereas global variables can be accessed throughout the program body by all functions. When you call a function, the variables declared inside it are brought into scope."
   ]
  },
  {
   "cell_type": "code",
   "execution_count": null,
   "metadata": {
    "collapsed": false
   },
   "outputs": [],
   "source": [
    "total = 0; # This is global variable.\n",
    "# Function definition is here\n",
    "def sum( arg1, arg2 ):\n",
    "   # Add both the parameters and return them.\"\n",
    "   total = arg1 + arg2; # Here total is local variable.\n",
    "   print \"Inside the function local total : \", total\n",
    "   return total;\n",
    "\n",
    "# Now you can call sum function\n",
    "returnedTotal = sum( 10, 20 );\n",
    "print \"Outside the function global total : \", total \n",
    "print \"Value returned by function: \", returnedTotal "
   ]
  },
  {
   "cell_type": "markdown",
   "metadata": {},
   "source": [
    "---"
   ]
  }
 ],
 "metadata": {
  "kernelspec": {
   "display_name": "Python 3",
   "language": "python",
   "name": "python3"
  },
  "language_info": {
   "codemirror_mode": {
    "name": "ipython",
    "version": 3
   },
   "file_extension": ".py",
   "mimetype": "text/x-python",
   "name": "python",
   "nbconvert_exporter": "python",
   "pygments_lexer": "ipython3",
   "version": "3.5.1"
  }
 },
 "nbformat": 4,
 "nbformat_minor": 0
}

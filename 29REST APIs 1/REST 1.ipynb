{
 "metadata": {
  "kernelspec": {
   "display_name": "Python 3",
   "language": "python",
   "name": "python3"
  },
  "language_info": {
   "codemirror_mode": {
    "name": "ipython",
    "version": 3
   },
   "file_extension": ".py",
   "mimetype": "text/x-python",
   "name": "python",
   "nbconvert_exporter": "python",
   "pygments_lexer": "ipython3",
   "version": "3.5.1"
  },
  "name": "",
  "signature": "sha256:819075d1412e51f8c2485898d246d4721352aead9b94bc097dac32a56e488bd6"
 },
 "nbformat": 3,
 "nbformat_minor": 0,
 "worksheets": [
  {
   "cells": [
    {
     "cell_type": "heading",
     "level": 1,
     "metadata": {},
     "source": [
      "RESTful APIs - Django REST framework"
     ]
    },
    {
     "cell_type": "heading",
     "level": 3,
     "metadata": {},
     "source": [
      "Intro"
     ]
    },
    {
     "cell_type": "markdown",
     "metadata": {},
     "source": [
      "Django REST framework is a powerful and flexible toolkit for building Web APIs. Some reasons you might want to use a REST framework are:\n",
      "\n",
      "- The Web browsable API is a huge usability win for your developers.\n",
      "- Authentication policies including packages for OAuth1 and OAuth2.\n",
      "- Serialization that supports both ORM and non-ORM data sources.\n",
      "- Customizable all the way down - just use regular function-based views if you don't need the more powerful features.\n",
      "- Extensive documentation, and great community support.\n",
      "- Used and trusted by large companies such as Google, LinkedIn, Facebook, Twitter and Mozilla.\n",
      "\n",
      "<img src=\"./images/rest.png\" width=\"200\" height=\"200\" />\n"
     ]
    },
    {
     "cell_type": "heading",
     "level": 3,
     "metadata": {},
     "source": [
      "Prerequisites"
     ]
    },
    {
     "cell_type": "markdown",
     "metadata": {},
     "source": [
      "Before we do anything, we'll create a new virtual environment, using virtualenv. virtualenv is a tool to create isolated Python environments. The basic problem being addressed is one of dependencies and versions, and indirectly permissions. Imagine you have an application that needs version 1 of LibFoo, but another application requires version 2. How can you use both these applications? If you install everything into /usr/lib/python2.7/site-packages (or whatever your platform\u2019s standard location is), it\u2019s easy to end up in a situation where you unintentionally upgrade an application that shouldn\u2019t be upgraded.\n",
      "\n",
      "virtualenv creates an environment that has its own installation directories, that doesn\u2019t share libraries with other virtualenv environments (and optionally doesn\u2019t access the globally installed libraries either). This will make sure our package configuration is kept nicely isolated from any other projects we're working on.\n",
      "\n",
      "Hence, choose a directory in your computer where you want to keep your virtual environments and type:"
     ]
    },
    {
     "cell_type": "raw",
     "metadata": {},
     "source": [
      "> virtualenv env"
     ]
    },
    {
     "cell_type": "markdown",
     "metadata": {},
     "source": [
      "I am using 'env' as the name of the environment for this particular practical but you can use any name you want. \n",
      "\n",
      "If you don't have virtualenv installed in your computer, install it:"
     ]
    },
    {
     "cell_type": "raw",
     "metadata": {},
     "source": [
      "> pip install virtualenv"
     ]
    },
    {
     "cell_type": "markdown",
     "metadata": {},
     "source": [
      "Next you need to activate the virtual environment you just created, in Windows type:"
     ]
    },
    {
     "cell_type": "raw",
     "metadata": {},
     "source": [
      "> .\\env\\Scripts\\activate"
     ]
    },
    {
     "cell_type": "markdown",
     "metadata": {},
     "source": [
      "in Linux flavor operating systems type the following to activate the virtual environment you just created:"
     ]
    },
    {
     "cell_type": "raw",
     "metadata": {},
     "source": [
      "> source env/bin/activate"
     ]
    },
    {
     "cell_type": "markdown",
     "metadata": {},
     "source": [
      "If you have correctly activated the just created virtual environment, your prompt should be prepended with the name of the environment in the following fashion:"
     ]
    },
    {
     "cell_type": "raw",
     "metadata": {},
     "source": [
      "(env) >"
     ]
    },
    {
     "cell_type": "markdown",
     "metadata": {},
     "source": [
      "Now that we're inside a virtualenv environment, we can install our package requirements."
     ]
    },
    {
     "cell_type": "raw",
     "metadata": {},
     "source": [
      "> pip install django\n",
      "> pip install djangorestframework"
     ]
    },
    {
     "cell_type": "heading",
     "level": 3,
     "metadata": {},
     "source": [
      "Creating a Django project and a model to work with"
     ]
    },
    {
     "cell_type": "markdown",
     "metadata": {},
     "source": [
      "To get started, let's create a new Django project to work with. In a folder of your choosing type:"
     ]
    },
    {
     "cell_type": "raw",
     "metadata": {},
     "source": [
      "> django-admin.py startproject resttutorial\n",
      "> cd resttutorial"
     ]
    },
    {
     "cell_type": "markdown",
     "metadata": {},
     "source": [
      "Now we can create an app that we'll use to create a simple Web API."
     ]
    },
    {
     "cell_type": "raw",
     "metadata": {},
     "source": [
      "> python manage.py startapp books"
     ]
    },
    {
     "cell_type": "markdown",
     "metadata": {},
     "source": [
      "We'll need to add our new books app and the rest_framework app to INSTALLED_APPS. Let's edit the resttutorial/settings.py file:"
     ]
    },
    {
     "cell_type": "code",
     "collapsed": true,
     "input": [
      "INSTALLED_APPS = [\n",
      "    'django.contrib.admin',\n",
      "    'django.contrib.auth',\n",
      "    'django.contrib.contenttypes',\n",
      "    'django.contrib.sessions',\n",
      "    'django.contrib.messages',\n",
      "    'django.contrib.staticfiles',\n",
      "    'rest_framework',\n",
      "    'books.apps.BooksConfig',\n",
      "]"
     ],
     "language": "python",
     "metadata": {},
     "outputs": [],
     "prompt_number": 1
    },
    {
     "cell_type": "markdown",
     "metadata": {},
     "source": [
      "For the purposes of this tutorial we're going to start by creating a simple Book model that is used to store book instances. Go ahead and edit the books/models.py file. "
     ]
    },
    {
     "cell_type": "code",
     "collapsed": true,
     "input": [
      "from django.db import models\n",
      "\n",
      "\n",
      "class Book(models.Model):\n",
      "    created = models.DateTimeField(auto_now_add=True)\n",
      "    title = models.CharField(max_length=200, blank=True, default='')\n",
      "    author = models.CharField(max_length=100)\n",
      "    intro = models.TextField()\n",
      "    price = models.DecimalField()\n",
      "    url = models.URLField()\n",
      "\n",
      "    class Meta:\n",
      "        ordering = ('created',)"
     ],
     "language": "python",
     "metadata": {},
     "outputs": [],
     "prompt_number": null
    },
    {
     "cell_type": "markdown",
     "metadata": {},
     "source": [
      "Next, let's create an initial migration for our book model, and sync the database for the first time."
     ]
    },
    {
     "cell_type": "raw",
     "metadata": {},
     "source": [
      "> python manage.py makemigrations\n",
      "> python manage.py migrate"
     ]
    },
    {
     "cell_type": "heading",
     "level": 3,
     "metadata": {},
     "source": [
      "Serializers"
     ]
    },
    {
     "cell_type": "markdown",
     "metadata": {},
     "source": [
      "In computer science, in the context of data storage, serialization is the process of translating data structures or object state into a format that can be stored (for example, in a file or memory buffer, or transmitted across a network connection link) and reconstructed later in the same or another computer environment.\n",
      "\n",
      "The first thing we need to get started on our Web API is to provide a way of serializing and deserializing the book instances into representations such as json. We can do this by declaring serializers that work very similar to Django's forms. Create a file in the books directory named *serializers.py* and add the following."
     ]
    },
    {
     "cell_type": "code",
     "collapsed": true,
     "input": [
      "from rest_framework import serializers\n",
      "from books.models import Book\n",
      "\n",
      "class BookSerializer(serializers.ModelSerializer):\n",
      "    class Meta:\n",
      "        model = Book\n",
      "        fields = ('id', 'title', 'author', 'intro', 'price', 'url')"
     ],
     "language": "python",
     "metadata": {},
     "outputs": [],
     "prompt_number": null
    },
    {
     "cell_type": "heading",
     "level": 3,
     "metadata": {},
     "source": [
      "API views"
     ]
    },
    {
     "cell_type": "markdown",
     "metadata": {},
     "source": [
      "REST framework provides two wrappers you can use to write API views.\n",
      "\n",
      "- The @api_view decorator for working with function based views.\n",
      "- The APIView class for working with class based views.\n",
      "\n",
      "These wrappers provide a few bits of functionality such as making sure you receive Request instances in your view, and adding context to Response objects so that content negotiation can be performed. The wrappers also provide behaviour such as returning 405 Method Not Allowed responses when appropriate, and handling any ParseError exception that occurs when accessing request.data with malformed input.\n",
      "\n",
      "Writting our API views using class based views, rather than function based views is easier. This is a powerful pattern that allows us to reuse common functionality, and helps us keep our code DRY.\n",
      "\n",
      "Translate the following views to your *views.py* file:"
     ]
    },
    {
     "cell_type": "code",
     "collapsed": true,
     "input": [
      "from books.models import Book\n",
      "from books.serializers import BookSerializer\n",
      "from django.http import Http404\n",
      "from rest_framework.views import APIView\n",
      "from rest_framework.response import Response\n",
      "from rest_framework import status\n",
      "\n",
      "\n",
      "class BookList(APIView):\n",
      "    \"\"\"\n",
      "    List all books with get method, or create a new book with post method.\n",
      "    \"\"\"\n",
      "    def get(self, request, format=None):\n",
      "        books = Book.objects.all()\n",
      "        serializer = BookSerializer(books, many=True)\n",
      "        return Response(serializer.data)\n",
      "\n",
      "    def post(self, request, format=None):\n",
      "        serializer = BookSerializer(data=request.data)\n",
      "        if serializer.is_valid():\n",
      "            serializer.save()\n",
      "            return Response(serializer.data, status=status.HTTP_201_CREATED)\n",
      "        return Response(serializer.errors, status=status.HTTP_400_BAD_REQUEST)\n",
      "\n",
      "class BookDetail(APIView):\n",
      "    \"\"\"\n",
      "    Retrieve, update or delete a single book instance.\n",
      "    \"\"\"\n",
      "    def get_object(self, pk):\n",
      "        try:\n",
      "            return Book.objects.get(pk=pk)\n",
      "        except Book.DoesNotExist:\n",
      "            raise Http404\n",
      "\n",
      "    def get(self, request, pk, format=None):\n",
      "        book = self.get_object(pk)\n",
      "        serializer = BookSerializer(book)\n",
      "        return Response(serializer.data)\n",
      "\n",
      "    def put(self, request, pk, format=None):\n",
      "        book = self.get_object(pk)\n",
      "        serializer = BookSerializer(book, data=request.data)\n",
      "        if serializer.is_valid():\n",
      "            serializer.save()\n",
      "            return Response(serializer.data)\n",
      "        return Response(serializer.errors, status=status.HTTP_400_BAD_REQUEST)\n",
      "\n",
      "    def delete(self, request, pk, format=None):\n",
      "        book = self.get_object(pk)\n",
      "        book.delete()\n",
      "        return Response(status=status.HTTP_204_NO_CONTENT)"
     ],
     "language": "python",
     "metadata": {},
     "outputs": [],
     "prompt_number": null
    },
    {
     "cell_type": "markdown",
     "metadata": {},
     "source": [
      "Finally we need to wire these views up. Create the books/urls.py file:"
     ]
    },
    {
     "cell_type": "code",
     "collapsed": true,
     "input": [
      "from django.conf.urls import url\n",
      "from rest_framework.urlpatterns import format_suffix_patterns\n",
      "from books import views\n",
      "\n",
      "urlpatterns = [\n",
      "    url(r'^books/$', views.BookList.as_view()),\n",
      "    url(r'^books/(?P<pk>[0-9]+)/$', views.BookDetail.as_view()),\n",
      "]\n",
      "\n",
      "urlpatterns = format_suffix_patterns(urlpatterns)"
     ],
     "language": "python",
     "metadata": {},
     "outputs": [],
     "prompt_number": null
    },
    {
     "cell_type": "markdown",
     "metadata": {},
     "source": [
      "The last line adds support for format suffixes to our API endpoints. Using format suffixes gives us URLs that explicitly refer to a given format, and means our API will be able to handle URLs such as http://example.com/api/items/4/.json, http://example.com/api/items/4/.xml or http://example.com/api/items/4/.api."
     ]
    },
    {
     "cell_type": "markdown",
     "metadata": {},
     "source": [
      "We also need to wire up the root urlconf, in the resttutorial/urls.py file, to include our book app's URLs."
     ]
    },
    {
     "cell_type": "code",
     "collapsed": true,
     "input": [
      "from django.conf.urls import url, include\n",
      "\n",
      "urlpatterns = [\n",
      "    url(r'^', include('books.urls')),\n",
      "]"
     ],
     "language": "python",
     "metadata": {},
     "outputs": [],
     "prompt_number": null
    },
    {
     "cell_type": "heading",
     "level": 3,
     "metadata": {},
     "source": [
      "Testing our Web API"
     ]
    },
    {
     "cell_type": "markdown",
     "metadata": {},
     "source": [
      "We can test our API using httpie. Httpie is a user friendly http client that's written in Python. You can install httpie using pip:"
     ]
    },
    {
     "cell_type": "raw",
     "metadata": {},
     "source": [
      "> pip install httpie"
     ]
    },
    {
     "cell_type": "markdown",
     "metadata": {},
     "source": [
      "Start your local server:"
     ]
    },
    {
     "cell_type": "raw",
     "metadata": {},
     "source": [
      "> python manage.py runserver"
     ]
    },
    {
     "cell_type": "markdown",
     "metadata": {},
     "source": [
      "In another terminal window, after activating the virtualenv, named env, that we created at the beginning of this tutorial, we can test our Web API."
     ]
    },
    {
     "cell_type": "heading",
     "level": 3,
     "metadata": {},
     "source": [
      "Posting some data to our Web API"
     ]
    },
    {
     "cell_type": "markdown",
     "metadata": {},
     "source": [
      "Let's fill our web API with some data. You can do so by using a post HTTP request, with the specific book instance data you want to update:"
     ]
    },
    {
     "cell_type": "raw",
     "metadata": {},
     "source": [
      "http --json POST http://127.0.0.1:8000/books/ title=\"Economic Facts and Fallacies\" author=\"Thomas Sowell\" intro=\"In Economic Facts and Fallacies, Thomas Sowell exposes some of the most popular fallacies about economic issues in a lively manner that does not require any prior knowledge of economics.\" price=10.67 url=\"http://www.amazon.com/Economic-Facts-Fallacies-Thomas-Sowell/dp/0465022030/ref=pd_sim_14_3\""
     ]
    },
    {
     "cell_type": "markdown",
     "metadata": {},
     "source": [
      "With the previous POST request you generated an instance of a book in your Web API. Let's create another one."
     ]
    },
    {
     "cell_type": "raw",
     "metadata": {},
     "source": [
      "http --json POST http://127.0.0.1:8000/books/ title=\"Regenesis How Synthetic Biology will Reinvent Nature and Ourselves\" author=\"George Church\" intro=\"In Regenesis, Harvard biologist George Church and science writer Ed Regis explore the possibilities and perils of the emerging field of synthetic biology\" price=17.20 url=\"http://www.amazon.com/Regenesis-Synthetic-Biology-Reinvent-Ourselves/dp/0465075703/ref=sr_1_1\""
     ]
    },
    {
     "cell_type": "markdown",
     "metadata": {},
     "source": [
      "And yet another one:"
     ]
    },
    {
     "cell_type": "raw",
     "metadata": {},
     "source": [
      "http --json POST http://127.0.0.1:8000/books/ title=\"Probability Theory: The Logic of Science\" author=\"E. T. Jaynes\" intro=\"Going beyond the conventional mathematics of probability theory, this study views the subject in a wider context. It discusses new results, along with applications of probability theory to a variety of problems.\" price=78.44 url=\"http://www.amazon.com/Probability-Theory-E-T-Jaynes/dp/0521592712/ref=sr_1_1\""
     ]
    },
    {
     "cell_type": "heading",
     "level": 3,
     "metadata": {},
     "source": [
      "Retrieving all the books or a single instance of a book from our  Web API"
     ]
    },
    {
     "cell_type": "markdown",
     "metadata": {},
     "source": [
      "We can get a list of all of the books using a simple HTTP GET request:"
     ]
    },
    {
     "cell_type": "raw",
     "metadata": {},
     "source": [
      "> http GET http://127.0.0.1:8000/books/"
     ]
    },
    {
     "cell_type": "markdown",
     "metadata": {},
     "source": [
      "We can also get information about a single book by its id:"
     ]
    },
    {
     "cell_type": "raw",
     "metadata": {},
     "source": [
      "> http GET http://127.0.0.1:8000/books/2/"
     ]
    },
    {
     "cell_type": "markdown",
     "metadata": {},
     "source": [
      "We can also delete specific instances of a book in our database:"
     ]
    },
    {
     "cell_type": "raw",
     "metadata": {},
     "source": [
      "> http DELETE http://127.0.0.1:8000/books/2/"
     ]
    },
    {
     "cell_type": "markdown",
     "metadata": {},
     "source": [
      "Or update the information for a specific instance (Note that I'm using nonsensical data for readability purposes):"
     ]
    },
    {
     "cell_type": "raw",
     "metadata": {},
     "source": [
      "> http PUT http://127.0.0.1:8000/books/1/ author=\"AAA\" intro=\"BBB\" price=1.00 url=\"http://www.google.com\""
     ]
    },
    {
     "cell_type": "markdown",
     "metadata": {},
     "source": [
      "You can also navigate your web API your browser, by visiting:  http://127.0.0.1:8000/books/ or http://127.0.0.1:8000/books/1/"
     ]
    },
    {
     "cell_type": "markdown",
     "metadata": {},
     "source": [
      "Congratulations if you made it this far! you have achieved a lot in a single session, namely creating your first RESTful Web API. Web APIs are used by all the big online players (Google, Amazon, Facebook, Twitter, etc) to deliver functionality across the web. Now you can add to your CV that you have the technical skills to create and consume RESTful APIs."
     ]
    }
   ],
   "metadata": {}
  }
 ]
}
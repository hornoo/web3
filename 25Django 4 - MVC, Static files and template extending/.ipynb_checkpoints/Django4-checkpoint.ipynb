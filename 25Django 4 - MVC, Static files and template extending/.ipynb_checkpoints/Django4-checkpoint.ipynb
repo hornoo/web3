{
 "cells": [
  {
   "cell_type": "markdown",
   "metadata": {},
   "source": [
    "# Django 4 - Static files and template extending"
   ]
  },
  {
   "cell_type": "markdown",
   "metadata": {},
   "source": [
    "### Improving the look of our project using Bootstrap"
   ]
  },
  {
   "cell_type": "markdown",
   "metadata": {},
   "source": [
    "So far we have managed to have our blog project to retrieve information from our database and displayed dynamically in our  application. However, the look of it is not very professional. Assuming your local server is running, if you point your browser to the local address http://127.0.0.1:8000/ you can realize for yourself that the site does not yet look great.  To remedy that, we will use Bootstrap and static files. Add the following lines within the head element of the *blog/templates/blog/post_list.html* file to load the Bootstrap CSS styles via a content delivery network."
   ]
  },
  {
   "cell_type": "code",
   "execution_count": null,
   "metadata": {
    "collapsed": true
   },
   "outputs": [],
   "source": [
    "<link rel=\"stylesheet\" href=\"//maxcdn.bootstrapcdn.com/bootstrap/3.2.0/css/bootstrap.min.css\">\n",
    "<link rel=\"stylesheet\" href=\"//maxcdn.bootstrapcdn.com/bootstrap/3.2.0/css/bootstrap-theme.min.css\">"
   ]
  },
  {
   "cell_type": "markdown",
   "metadata": {},
   "source": [
    "Point your browser again to the local address http://127.0.0.1:8000/, you should already see the bootstrap styles being active in displaying your HTML content and that the look of the site has improved slightly."
   ]
  },
  {
   "cell_type": "markdown",
   "metadata": {},
   "source": [
    "### Static files in Django"
   ]
  },
  {
   "cell_type": "markdown",
   "metadata": {},
   "source": [
    "In Django, static files refer to all your CSS and images. Their content doesn't depend on the request context and it will be the same for every user. Django already knows where to find the static files for the built-in \"admin\" app. Now we just need to add some static files for our own app, blog. We do that by creating a folder called static inside the blog app:"
   ]
  },
  {
   "cell_type": "raw",
   "metadata": {},
   "source": [
    "mysite\n",
    "    ├── blog\n",
    "    │   ├── migrations\n",
    "    │   ├── templates\n",
    "    │   └── static\n",
    "    └── mysite"
   ]
  },
  {
   "cell_type": "markdown",
   "metadata": {},
   "source": [
    "Django will automatically find any folders called \"static\" inside any of your apps' folders. Then, it will be able to use their contents as static files."
   ]
  },
  {
   "cell_type": "markdown",
   "metadata": {},
   "source": [
    "Let's create a project specific CSS file now, to add your own style to the blog application. Create a new directory called css inside your static directory. Then create a new file called *blog.css* inside this css directory. You should end up with a file structure like the following:"
   ]
  },
  {
   "cell_type": "raw",
   "metadata": {},
   "source": [
    "mysite\n",
    "    └─── blog\n",
    "         └─── static\n",
    "              └─── css\n",
    "                   └─── blog.css"
   ]
  },
  {
   "cell_type": "markdown",
   "metadata": {},
   "source": [
    "Next we will write our own CSS styles. Open the *blog/static/css/blog.css* file in your favorite code editor. \n",
    "Change the color of the Header in our blog front page. In the *blog/static/css/blog.css* file, add the following code:"
   ]
  },
  {
   "cell_type": "markdown",
   "metadata": {},
   "source": [
    "h1 a {\n",
    "    color: #FF0000;\n",
    "}"
   ]
  },
  {
   "cell_type": "markdown",
   "metadata": {},
   "source": [
    "Now we need to inform our HTML template that we added some CSS. Open the *blog/templates/blog/post_list.html*  file and add the following line as the first line of the file:"
   ]
  },
  {
   "cell_type": "code",
   "execution_count": null,
   "metadata": {
    "collapsed": true
   },
   "outputs": [],
   "source": [
    "{% load staticfiles %}"
   ]
  },
  {
   "cell_type": "markdown",
   "metadata": {},
   "source": [
    "Next, at the end of the < head > element, add the following line:"
   ]
  },
  {
   "cell_type": "code",
   "execution_count": null,
   "metadata": {
    "collapsed": true
   },
   "outputs": [],
   "source": [
    "<link rel=\"stylesheet\" href=\"{% static 'css/blog.css' %}\">"
   ]
  },
  {
   "cell_type": "markdown",
   "metadata": {},
   "source": [
    "Now save the file, and check out how it looks like when rendered by the browser (http://127.0.0.1:8000/). You should see that the content of the H1 header titles of our blog posts has changed to a redish color. \n",
    "\n",
    "You have probably noticed that our website doesn’t have any margins and that somehow that doesn't look right. Let’s change that by adding the following CSS style definition to the the *blog/static/css/blog.css* file:"
   ]
  },
  {
   "cell_type": "markdown",
   "metadata": {},
   "source": [
    "body {\n",
    "    padding-left: 15px;\n",
    "}"
   ]
  },
  {
   "cell_type": "markdown",
   "metadata": {},
   "source": [
    "Notice how an indentation of 15 pixels as specified in the *blog/static/css/blog.css file* file has been added to the body element (http://127.0.0.1:8000/)"
   ]
  },
  {
   "cell_type": "markdown",
   "metadata": {},
   "source": [
    "Next, let’s try to change the font in our header. Insert the following line in the head element of your *blog/templates/blog/post_list.html* file to import a font called Tangerine from a Google CDN (https://www.google.com/fonts):"
   ]
  },
  {
   "cell_type": "code",
   "execution_count": null,
   "metadata": {
    "collapsed": true
   },
   "outputs": [],
   "source": [
    "<link href=\"http://fonts.googleapis.com/css?family=Tangerine&subset=latin,latin-ext\" rel=\"stylesheet\" type=\"text/css\">"
   ]
  },
  {
   "cell_type": "markdown",
   "metadata": {},
   "source": [
    "Next you need to add the following line to your h1 CSS styling in the *blog/static/css/blog.css* file and refresh your page (http://127.0.0.1:8000/):"
   ]
  },
  {
   "cell_type": "markdown",
   "metadata": {},
   "source": [
    "h1 {\t\n",
    "\tfont-family: 'Tangerine';\n",
    "}"
   ]
  },
  {
   "cell_type": "markdown",
   "metadata": {},
   "source": [
    "Let’s add some classes to our HTML file in order to properly style the blog. Add the class “page-header” to the div element containing the Header of your webpage."
   ]
  },
  {
   "cell_type": "code",
   "execution_count": null,
   "metadata": {
    "collapsed": true
   },
   "outputs": [],
   "source": [
    "<div class=\"page-header\">\n",
    "    <h1>My Amazing Blog</a></h1>\n",
    "</div>"
   ]
  },
  {
   "cell_type": "markdown",
   "metadata": {},
   "source": [
    "and finally add the class “post” to the div containing a blog post."
   ]
  },
  {
   "cell_type": "code",
   "execution_count": null,
   "metadata": {
    "collapsed": true
   },
   "outputs": [],
   "source": [
    "<div class=\"post\">\n",
    "    <p>published: {{ post.published_date }}</p>\n",
    "    <h1><a href=\"\">{{ post.title }}</a></h1>\n",
    "    <p>{{ post.text|linebreaks }}</p>\n",
    "</div>"
   ]
  },
  {
   "cell_type": "markdown",
   "metadata": {},
   "source": [
    "Now we will expand the CSS styling of our page. Replace everything in *blog/static/css/blog.css* with the following content:"
   ]
  },
  {
   "cell_type": "code",
   "execution_count": null,
   "metadata": {
    "collapsed": true
   },
   "outputs": [],
   "source": [
    "body {\n",
    "    padding: 15px;\n",
    "}\n",
    "\n",
    "\n",
    ".page-header {\n",
    "    background-color: #55aa99;\n",
    "    margin-top: 0;\n",
    "    padding: 20px 20px 20px 40px;\n",
    "}\n",
    "\n",
    ".page-header h1, .page-header h1 a, .page-header h1 a:visited, .page-header h1 a:active {\n",
    "    color: #55ff99;\n",
    "    font-size: 36pt;\n",
    "    text-decoration: none;\n",
    "}\n",
    "\n",
    ".content {\n",
    "    margin-left: 40px;\n",
    "    margin-right: 40px;\n",
    "}\n",
    "\n",
    "h1, h2, h3, h4 {\n",
    "    font-family: 'Tangerine';\n",
    "}\n",
    "\n",
    ".date {\n",
    "    float: right;\n",
    "    color: #828282;\n",
    "}\n",
    "\n",
    ".save {\n",
    "    float: right;\n",
    "}\n",
    "\n",
    ".post-form textarea, .post-form input {\n",
    "    width: 100%;\n",
    "}\n",
    "\n",
    ".top-menu, .top-menu:hover, .top-menu:visited {\n",
    "    color: #55ff99;\n",
    "    float: right;\n",
    "    font-size: 26pt;\n",
    "    margin-right: 20px;\n",
    "}\n",
    "\n",
    ".post {\n",
    "    margin-bottom: 100px;\n",
    "}\n",
    "\n",
    "\n",
    ".post h1 a, .post h1 a:visited {\n",
    "\n",
    "    color: #55aa99;\n",
    "    font-size: 36pt;\n",
    "}\n"
   ]
  },
  {
   "cell_type": "markdown",
   "metadata": {},
   "source": [
    "Now we need to substitute the following code in our HTML template at *blog/templates/blog/post_list.html*:"
   ]
  },
  {
   "cell_type": "code",
   "execution_count": null,
   "metadata": {
    "collapsed": true
   },
   "outputs": [],
   "source": [
    "{% for post in posts %}\n",
    "    <div class=\"post\">\n",
    "        <p>published: {{ post.published_date }}</p>\n",
    "        <h1><a href=\"\">{{ post.title }}</a></h1>\n",
    "        <p>{{ post.text|linebreaks }}</p>\n",
    "    </div>\n",
    "{% endfor %}"
   ]
  },
  {
   "cell_type": "markdown",
   "metadata": {},
   "source": [
    "with the following code specifying the classes of the different types of content:"
   ]
  },
  {
   "cell_type": "code",
   "execution_count": null,
   "metadata": {
    "collapsed": true
   },
   "outputs": [],
   "source": [
    "<div class=\"content container\">\n",
    "    <div class=\"row\">\n",
    "        <div class=\"col-md-8\">\n",
    "            {% for post in posts %}\n",
    "                <div class=\"post\">\n",
    "                    <div class=\"date\">\n",
    "                        <p>published: {{ post.published_date }}</p>\n",
    "                    </div>                       \n",
    "                    <h1><a href=\"\">{{ post.title }}</a></h1>           \n",
    "                    <p>{{ post.text|linebreaks }}</p>\n",
    "                </div>\n",
    "            {% endfor %}\n",
    "        </div>\n",
    "    </div>\n",
    "</div>"
   ]
  },
  {
   "cell_type": "markdown",
   "metadata": {},
   "source": [
    "Check out the new look of your webpage (http://127.0.0.1:8000/). The significant amount of styling added should be quite noticeable."
   ]
  },
  {
   "cell_type": "markdown",
   "metadata": {},
   "source": [
    "### Template extending"
   ]
  },
  {
   "cell_type": "markdown",
   "metadata": {},
   "source": [
    "An important feature of Django is its ability for template extending. This means that you can use the same parts of your HTML for different pages of your website. Django's template inheritance mechanism allows templates to extend other templates and replace named blocks within them. Templates help when you want to use the same information/layout in more than one place. You don't have to repeat yourself in every file. And if you want to change something, you don't have to do it in every template, just once.\n",
    "\n",
    "A base template is the most basic template that you extend on every page of your website. A base template is usually a good place to position a Heather Bonner of your web application, a navigation menu or a footer, which should be common to all the webpages in your application. Let's create a *base.html* file in blog/templates/blog/:"
   ]
  },
  {
   "cell_type": "raw",
   "metadata": {},
   "source": [
    "blog\n",
    "└───templates\n",
    "    └───blog\n",
    "            base.html\n",
    "            post_list.html"
   ]
  },
  {
   "cell_type": "markdown",
   "metadata": {},
   "source": [
    "Insert the following code in *base.html*:"
   ]
  },
  {
   "cell_type": "code",
   "execution_count": null,
   "metadata": {
    "collapsed": true
   },
   "outputs": [],
   "source": [
    "{% load staticfiles %}\n",
    "\n",
    "<html>\n",
    "    <head>\n",
    "        <title>My Super Blog</title>\n",
    "        <link rel=\"stylesheet\" href=\"//maxcdn.bootstrapcdn.com/bootstrap/3.2.0/css/bootstrap.min.css\">\n",
    "        <link rel=\"stylesheet\" href=\"//maxcdn.bootstrapcdn.com/bootstrap/3.2.0/css/bootstrap-theme.min.css\">\n",
    "        <link rel=\"stylesheet\" href=\"{% static 'css/blog.css' %}\">\n",
    "        <link href=\"http://fonts.googleapis.com/css?family=Tangerine&subset=latin,latin-ext\" rel=\"stylesheet\" type=\"text/css\">\n",
    "    </head>\n",
    "    <body>\n",
    "        <div class=\"page-header\">\n",
    "            <h1><a href=\"{% url 'post_list' %}\"> My Amazing Blog</a></h1>\n",
    "        </div>\n",
    "        <div class=\"content container\">\n",
    "            <div class=\"row\">\n",
    "                <div class=\"col-md-8\">\n",
    "                {% block content %}\n",
    "                {% endblock %}\n",
    "                </div>\n",
    "            </div>\n",
    "        </div>\n",
    "    </body>\n",
    "\n",
    "</html>"
   ]
  },
  {
   "cell_type": "markdown",
   "metadata": {},
   "source": [
    "This HTML code will be common to all the pages in your blog application: The title of the page, the main header, the CSS and bootstrap imports as well as the outer skeleton of the body element. Specific pages in your blog application will have specific content that will be injected within the block tags with name content."
   ]
  },
  {
   "cell_type": "code",
   "execution_count": null,
   "metadata": {
    "collapsed": true
   },
   "outputs": [],
   "source": [
    "{% block content %}\n",
    "{% endblock %}"
   ]
  },
  {
   "cell_type": "markdown",
   "metadata": {},
   "source": [
    "You used the template tag {% block %} to make an area that will have HTML inserted in it. That HTML will come from another template that extends this *base.html* template. We will show you how to do this in the next step.\n",
    "Save the *base.html* file, and open your *blog/templates/blog/post_list.html*. Replace everything in the file with the following:"
   ]
  },
  {
   "cell_type": "code",
   "execution_count": null,
   "metadata": {
    "collapsed": true
   },
   "outputs": [],
   "source": [
    "{% extends 'blog/base.html' %}\n",
    "{% block content %}\n",
    "    {% for post in posts %}\n",
    "        <div class=\"post\">\n",
    "            <div class=\"date\">\n",
    "                {{ post.published_date }}\n",
    "            </div>\n",
    "            <h1><a href=\"\">{{ post.title }}</a></h1>\n",
    "            <p>{{ post.text|linebreaks }}</p>\n",
    "        </div>\n",
    "    {% endfor %}\n",
    "{% endblock %}"
   ]
  },
  {
   "cell_type": "markdown",
   "metadata": {},
   "source": [
    "Through the usage of the {% extends 'blog/base.html' %} tag, the content in  *blog/templates/blog/post_list.html* will be injected in between the {% block content %} tag in *base.html*\n",
    "\n",
    "Finally, check if your website is still working properly (http://127.0.0.1:8000/).\n",
    "Note: If you have an error TemplateDoesNotExist that says that there is no blog/base.html file and you have a runserver instance running in the console, try to stop it (by pressing Ctrl+C - Control and C buttons together) and restart it by restarting the server:"
   ]
  },
  {
   "cell_type": "raw",
   "metadata": {},
   "source": [
    "> python manage.py runserver"
   ]
  },
  {
   "cell_type": "markdown",
   "metadata": {},
   "source": [
    "Reflect for a moment about what you have just done and make sure you understand template extending before you move to the next section."
   ]
  },
  {
   "cell_type": "markdown",
   "metadata": {},
   "source": [
    "### Create links to specific webpages in your application"
   ]
  },
  {
   "cell_type": "markdown",
   "metadata": {},
   "source": [
    "We need that our blog application is able to display a page about any given post. We will start with adding a link inside the *blog/templates/blog/post_list.html* file.  We want to have a link from a post's title in the post list to the post's detail page. Let's change the line in *blog/templates/blog/post_list.html* file from:"
   ]
  },
  {
   "cell_type": "code",
   "execution_count": null,
   "metadata": {
    "collapsed": true
   },
   "outputs": [],
   "source": [
    "<h1><a href=\"\">{{ post.title }}</a></h1>"
   ]
  },
  {
   "cell_type": "markdown",
   "metadata": {},
   "source": [
    "to:"
   ]
  },
  {
   "cell_type": "code",
   "execution_count": null,
   "metadata": {
    "collapsed": true
   },
   "outputs": [],
   "source": [
    "<h1><a href=\"{% url 'post_detail' pk=post.pk %}\">{{ post.title }}</a></h1>"
   ]
  },
  {
   "cell_type": "markdown",
   "metadata": {},
   "source": [
    "The url tag takes the name of a URL pattern (post_detail) as a required argument and returns the URL path to that pattern. This is where the name argument of URL patters becomes useful.  \n",
    "\n",
    "If a URL pattern has any name groups, like the pk of our post detail view, the URL tag requires these as additional parameters. This second tag renders the path to the item detail view for whatever post pk is given. The result for an item with a pk of one, would generate /post/1/. You might be asking why the URL tag is used instead of just using / for index and /post/ and post.pk as a variable. What the URL tag accomplishes is a bit of future-proofing. If we decide to change a URL pattern later on, the links we use in our templates will still be correct if we use the URL tag.\n",
    "\n",
    "If we now go to: http://127.0.0.1:8000/ we will have an error (as expected, since we don't have a URL or a view for post_detail). "
   ]
  },
  {
   "cell_type": "markdown",
   "metadata": {},
   "source": [
    "### Create a URL to a post’s detail"
   ]
  },
  {
   "cell_type": "markdown",
   "metadata": {},
   "source": [
    "We will next create a URL in urls.py for our post_detail view. We specifically want our first post's detail to be displayed at the  URL:http://127.0.0.1:8000/post/1/, the second post's detail to be displayed at the URL http://127.0.0.1:8000/post/2/, etc. We begin by making a URL in the *blog/urls.py* file to point Django to a view named post_detail, that will show an entire blog post. "
   ]
  },
  {
   "cell_type": "code",
   "execution_count": null,
   "metadata": {
    "collapsed": true
   },
   "outputs": [],
   "source": [
    "from django.conf.urls import include, url\n",
    "from . import views\n",
    "\n",
    "urlpatterns = [\n",
    "    url(r'^$', views.post_list, name='post_list'),\n",
    "    url(r'^post/(?P<pk>\\d+)/$', views.post_detail, name='post_detail'),\n",
    "]"
   ]
  },
  {
   "cell_type": "markdown",
   "metadata": {},
   "source": [
    "*urls.py* will define a variable called urlpatterns which is a list of calls to the url function. The url function has three parameters. The first parameter is a regular expression. This will be used to match against the HTTP request. In this example, in the first call of the url function, we're using ^$, so we're matching against the empty string or a visit to the domain with nothing after it (http://yourdomain.com/).\n",
    "\n",
    "The second argument is the view to call if there's a match. In this example, if someone goes to http://yourdomain.com/ with nothing else in the URL (no file path), Django will call the post_list view. Lastly, the urlpatterns takes a name parameter at the end. This is what we used in our template before to refer to a specific URL. \n",
    "\n",
    "The procedure that Django uses when responding to HTTP requests is that it looks at urlpatterns and begins at the top to determine if the first one matches. If there's a match, it will call the associated view, otherwise it will continue into the next pattern. In this case, if the URL is /post/1/ then it will go to the post_detail view, otherwise, it will go to the next pattern.\n",
    "\n",
    "When there are no longer any patterns left, we will get a 404 page, since there are no matches. If it goes through every pattern and there are no matches, Django will return a 404.\n",
    "\n",
    "Notice that in the codee example above we maintained the mapping from the base domain of our blog application to the post_list view and we added a new mapping from the URL pattern ^post/(?P< pk >\\d+)/\\$ to the post_detail view. Don't be intimidated by this second mapping. ^post/(?P< pk >\\d+)/\\$ is just a regular expression with the following meaning:"
   ]
  },
  {
   "cell_type": "markdown",
   "metadata": {},
   "source": [
    "- ^ Indicates that match has to start at \"the beginning\" of the passed URL\n",
    "- post/ only means that after the beginning, the URL should contain the word post followed by the / symbol. \n",
    "- (?P<pk>\\d+) means that Django will take everything that you place here and transfer it to a view as a variable called pk. The \\d also tells us that it can only be a digit, not a letter (so everything between 0 and 9). + means that there needs to be one or more digits there. So something like http://127.0.0.1:8000/post// is not valid, but http://127.0.0.1:8000/post/1234567890/ is perfectly ok!\n",
    "- then we are matching for a / symbol again\n",
    "- \\$ simply specifies the end of the passed URL\n",
    "\n",
    "\n",
    "That means if you enter http://127.0.0.1:8000/post/5/ into your browser, Django will understand that you are looking for a view called post_detail and transfer the information that pk equals 5 to that view. \n",
    "\n",
    "pk is shortcut for primary key. This name is often used in Django projects. But you can name your variable as you like (but remember you need to use lowercase and _ instead of whitespaces!). For example instead of (?P<pk>\\d+) we could have variable post_id, so this bit would look like: (?P< post_id >\\d+)."
   ]
  },
  {
   "cell_type": "markdown",
   "metadata": {},
   "source": [
    "### Adding a post's detail view"
   ]
  },
  {
   "cell_type": "markdown",
   "metadata": {},
   "source": [
    "Finally we need to add a post_detail view. This time our view is given an extra parameter pk. Our view needs to catch this parameter pk so we will define our function as def post_detail(request, pk). Note that we need to use exactly the same name as the one we specified in urls (pk). Omitting this variable is incorrect and will result in an error. Open blog/views.py and add the following import and method while maintaining the already defined post_list view and the already present imports:"
   ]
  },
  {
   "cell_type": "code",
   "execution_count": null,
   "metadata": {
    "collapsed": true
   },
   "outputs": [],
   "source": [
    "from django.shortcuts import render, get_object_or_404\n",
    "\n",
    "def post_detail(request, pk):\n",
    "    post = get_object_or_404(Post, pk=pk)\n",
    "    return render(request, 'blog/post_detail.html', {'post': post})"
   ]
  },
  {
   "cell_type": "markdown",
   "metadata": {},
   "source": [
    "Notice how in this view we are retrieving a specific post (with primary key pk) from our database in passing that data instance to our post_detail template ( which doesn't exist yet). Next, we need to create the post_detail template. Create a file in *blog/templates/blog* called post_detail.html. It should look like this:"
   ]
  },
  {
   "cell_type": "code",
   "execution_count": null,
   "metadata": {
    "collapsed": true
   },
   "outputs": [],
   "source": [
    "{% extends 'blog/base.html' %}\n",
    "\n",
    "{% block content %}\n",
    "    <div class=\"post\">\n",
    "        {% if post.published_date %}\n",
    "            <div class=\"date\">\n",
    "                {{ post.published_date }}\n",
    "            </div>\n",
    "        {% endif %}\n",
    "        <h1>{{ post.title }}</h1>\n",
    "        <p>{{ post.text|linebreaks }}</p>\n",
    "    </div>\n",
    "{% endblock %}"
   ]
  },
  {
   "cell_type": "markdown",
   "metadata": {},
   "source": [
    "Once again notice that we are extending the base.html template that provides the common HTML to our entire application. For this particular template, we want the content block to display a post's published_date (if it exists), title and text. Now we can try again at http://127.0.0.1:8000/post/1/ and check out if our post renders correctly. Check out other post numbers http://127.0.0.1:8000/post/2/, http://127.0.0.1:8000/post/3/\n",
    "\n",
    "Check also that if you go to the base page http://127.0.0.1:8000 you can click on each post title to go to the specific post_detail page.\n",
    "\n",
    "Lastly, notice how our application lists the blog posts in chronological order with the most recent posts at the bottom of the page. This is not how it is usually done on the real world, where the most recent entries are displayed at the top. Including this functionality is very simple, it simply requires to reverse the chronological order of the query for all the posts in the database in the post_list view of the *blog/views.py* file By adding the - sign as a parameterto the order_by method:"
   ]
  },
  {
   "cell_type": "code",
   "execution_count": null,
   "metadata": {
    "collapsed": true
   },
   "outputs": [],
   "source": [
    "def post_list(request):\n",
    "    posts = Post.objects.filter(published_date__lte=timezone.now()).order_by('-published_date')\n",
    "    return render(request, 'blog/post_list.html', {'posts': posts})"
   ]
  },
  {
   "cell_type": "markdown",
   "metadata": {},
   "source": [
    "### Deploying our progress"
   ]
  },
  {
   "cell_type": "markdown",
   "metadata": {},
   "source": [
    "Our final task for the day is to deploy our progress to our \"production server\". Once again, from your git console in your development computer type:"
   ]
  },
  {
   "cell_type": "raw",
   "metadata": {},
   "source": [
    "> git status\n",
    "> git add -A .\n",
    "> git status\n",
    "> git commit -m \"Added view and template for detailed blog post as well as CSS for the site.\"\n",
    "> git push"
   ]
  },
  {
   "cell_type": "markdown",
   "metadata": {},
   "source": [
    "Then, log back into your cloud server at https://www.pythonanywhere.com/ and go to your Bash console (or start a new one), and run:"
   ]
  },
  {
   "cell_type": "raw",
   "metadata": {},
   "source": [
    "> cd ~/my-first-blog\n",
    "> source myvenv/bin/activate \n",
    "> git pull"
   ]
  },
  {
   "cell_type": "markdown",
   "metadata": {},
   "source": [
    "Finally, hop on over to the Web tab and hit <font color=\"green\">**Reload** </font> on your web app. Your update should be live!\n",
    "\n",
    "---"
   ]
  },
  {
   "cell_type": "markdown",
   "metadata": {},
   "source": [
    "I hope that by this stage you are able to grasp the myriad of applications that you could create using the set of tools introduced over the last 4 tutorials. If this is not the case, talk to me before it is too late so you can confidently tackle Assignment 3."
   ]
  }
 ],
 "metadata": {
  "kernelspec": {
   "display_name": "Python 3",
   "language": "python",
   "name": "python3"
  },
  "language_info": {
   "codemirror_mode": {
    "name": "ipython",
    "version": 3
   },
   "file_extension": ".py",
   "mimetype": "text/x-python",
   "name": "python",
   "nbconvert_exporter": "python",
   "pygments_lexer": "ipython3",
   "version": "3.5.1"
  }
 },
 "nbformat": 4,
 "nbformat_minor": 0
}

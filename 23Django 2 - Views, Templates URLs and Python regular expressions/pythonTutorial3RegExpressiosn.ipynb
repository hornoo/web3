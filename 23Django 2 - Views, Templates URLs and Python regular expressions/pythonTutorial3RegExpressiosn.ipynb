{
 "cells": [
  {
   "cell_type": "markdown",
   "metadata": {},
   "source": [
    "# Python Tutorial 3 - Regular Expressions"
   ]
  },
  {
   "cell_type": "markdown",
   "metadata": {},
   "source": [
    "A regular expression is a special sequence of characters that helps you match or find other strings or sets of strings, using a specialized syntax held in a pattern.\n",
    "\n",
    "The Python module **re** provides full support for regular expressions in Python. When working with regular expressions you usually want to work with raw strings. Raw strings are used so characters inside the string are interpreted literally instead of as having  special meaning, such as newline (\\n), tabs (\\t), etc. In order to work with raw strings in Python you use the following notation:"
   ]
  },
  {
   "cell_type": "code",
   "execution_count": 2,
   "metadata": {
    "collapsed": false
   },
   "outputs": [
    {
     "name": "stdout",
     "output_type": "stream",
     "text": [
      "This is a \tstring\n",
      " with special characters test\n",
      "--------------\n",
      "\\tThis is a string\\n with special characters\n"
     ]
    }
   ],
   "source": [
    "notRawString = 'This is a \\tstring\\n with special characters test'\n",
    "print(notRawString)\n",
    "print(\"--------------\")\n",
    "rawString = r'\\tThis is a string\\n with special characters' #raw string\n",
    "print(rawString)"
   ]
  },
  {
   "cell_type": "markdown",
   "metadata": {},
   "source": [
    "### The search function"
   ]
  },
  {
   "cell_type": "markdown",
   "metadata": {},
   "source": [
    "The function *search* inside the **re** module function attempts to match a regular expression *pattern* to *string* with optional *flags*."
   ]
  },
  {
   "cell_type": "raw",
   "metadata": {},
   "source": [
    "re.search(pattern, string, flags=0)"
   ]
  },
  {
   "cell_type": "markdown",
   "metadata": {},
   "source": [
    "Parameter | Description \n",
    "--- | --- \n",
    " pattern |  This is the regular expression to be matched.\n",
    " string |  This is the string, which would be searched to match the pattern at the beginning of string.\n",
    " flags |  You can specify different flags using bitwise OR. These are modifiers, which are listed later in the tutorial.\n",
    " \n",
    "The re.search function returns a match object on success, None on failure. We usegroup(num) or groups() function of the match object to get the matched expression(s).\n",
    " \n",
    "Match Object Methods | Description \n",
    "--- | --- \n",
    " group(x) |  This method returns entire match of specific subgroup x of the entire match)\n",
    " groups() |  This method returns all matching subgroups in a tuple (empty if there weren't any)\n",
    " \n",
    " Regular expression literals may include an optional modifier to control various aspects of matching. The modifiers are specified as an optional flag. You can provide multiple modifiers using the bitwise OR operator (|):\n",
    " \n",
    "Modifier | Description \n",
    "--- | --- \n",
    " re.I | Performs case-insensitive matching.\n",
    " re.L | Interprets words according to the current locale. This interpretation affects the alphabetic group (\\w and \\W), as well as word boundary behavior (\\b and \\B).\n",
    " re.M | Makes $ match the end of a line (not just the end of the string) and makes ^ match the start of any line (not just the start of the string).\n",
    " re.S | Makes a period (dot) match any character, including a newline.\n",
    " re.U | Interprets letters according to the Unicode character set. This flag affects the behavior of \\w, \\W, \\b, \\B.\n",
    " re.X | Permits \"cuter\" regular expression syntax. It ignores whitespace (except inside a set [] or when escaped by a backslash) and treats unescaped # as a comment marker."
   ]
  },
  {
   "cell_type": "markdown",
   "metadata": {},
   "source": [
    "### Regular Expression Special characters"
   ]
  },
  {
   "cell_type": "markdown",
   "metadata": {},
   "source": [
    "Regular expressions can contain both special and ordinary characters. Most ordinary characters, like 'A', 'a', or '0', are the simplest regular expressions; they simply match themselves. You can concatenate ordinary characters, so the regular expresion r'last' matches the string 'last'.\n",
    "\n",
    "Some characters, like '|', '\\' or '(', are special. Special characters either stand for classes of ordinary characters, or affect how the regular expressions around them are interpreted. In the table below, I have tried to summarize some of the most important special characters: "
   ]
  },
  {
   "cell_type": "markdown",
   "metadata": {},
   "source": [
    "Special character Pattern | Description \n",
    "--- | --- \n",
    "^  |  Matches beginning of line.\n",
    "$  |  Matches end of line.\n",
    ".  |  Matches any single character except newline. Using re.M option allows it to match newline as well.\n",
    "[...]| Matches any single character in brackets.\n",
    "[^...]| Matches any single character not in brackets\n",
    "* | Matches 0 or more occurrences of preceding expression.\n",
    "+ | Matches 1 or more occurrences of preceding expression.\n",
    "? | Matches 0 or 1 occurrences of preceding expression.\n",
    "{n} | Matches exactly n number of occurrences of preceding expression.\n",
    "{n, m}| Matches at least n and at most m occurrences of preceding expression.\n",
    "a &#124; b| Matches either a or b.\n",
    "(re)| Groups regular expressions and remembers matched text.\n",
    "(?imx)| Temporarily toggles on re.I, re.M, or re.X options within a regular expression.\n",
    "(?-imx)| Temporarily toggles off re.I, re.M, or re.X options within a regular expression.\n",
    "\\w | Matches word characters.\n",
    "\\W | Matches nonword characters.\n",
    "\\s | Matches whitespace. Equivalent to [\\t\\n\\r\\f].\n",
    "\\S | Matches nonwhitespace.\n",
    "\\d | Matches digits. Equivalent to [0-9].\n",
    "\\D | Matches nondigits.\n",
    "\\b | Matches word boundaries\n",
    "\\n, \\t, etc. | Matches newlines, carriage returns, tabs, etc.\n",
    "\n",
    "--- \n",
    " \n",
    "After all this theory, time to some practice. Work through the following example line by line and make sure you understand what's going on. Edit the code snippets and run them to convince yourself how regular expressions work in Python. "
   ]
  },
  {
   "cell_type": "code",
   "execution_count": 7,
   "metadata": {
    "collapsed": false
   },
   "outputs": [
    {
     "name": "stdout",
     "output_type": "stream",
     "text": [
      "color\n",
      "Nothing matched!\n",
      "Nothing matched!\n"
     ]
    }
   ],
   "source": [
    "import re #We import the regular expression module\n",
    "\n",
    "str1 = \"My favorite color is red\";  #We create a sample string\n",
    "str2 = \"My favorite colour is red\";  #We create a 2nd sample string\n",
    "str3 = \"My favorite song is red\";  #We create a 3rd sample string\n",
    "\n",
    "myRegExp = r'col[ou]+r'\n",
    "searchObj1 = re.search( myRegExp, str1) #We try to match myRegExp against the string 'str1' \n",
    "searchObj2 = re.search( myRegExp, str2) #We try to match myRegExp against the string 'str2'\n",
    "searchObj3 = re.search( myRegExp, str3) #We try to match myRegExp against the string 'str3' \n",
    "\n",
    "\"\"\"\n",
    "We need try statements here because in case the regular expression pattern doesn't match the string, \n",
    "\n",
    "\"\"\"\n",
    "try:\n",
    "    print(searchObj1.group()) #prints all the matches\n",
    "except AttributeError:\n",
    "    print(\"Nothing matched!\")\n",
    "    \n",
    "try:\n",
    "    print(searchObj2.group()) #prints all the matches\n",
    "except AttributeError:\n",
    "    print(\"Nothing matched!\")\n",
    "    \n",
    "try:\n",
    "    print(searchObj3.group()) #prints all the matches\n",
    "except AttributeError:\n",
    "    print(\"Nothing matched!\")\n",
    "    \n"
   ]
  },
  {
   "cell_type": "markdown",
   "metadata": {},
   "source": [
    "#### Modifiers"
   ]
  },
  {
   "cell_type": "code",
   "execution_count": 8,
   "metadata": {
    "collapsed": false
   },
   "outputs": [
    {
     "name": "stdout",
     "output_type": "stream",
     "text": [
      "Nothing matched!\n",
      "COLOR\n"
     ]
    }
   ],
   "source": [
    "import re #We import the regular expression module\n",
    "\n",
    "str1 = \"My favorite COLOR is red\";  #We create a sample string\n",
    "str2 = \"My favorite COLOR is red\";  #We create a 2nd sample string\n",
    "\n",
    "myRegExp = r'col[ou]+r'\n",
    "searchObj1 = re.search( myRegExp, str1) #We try to match myRegExp against the string 'str1' \n",
    "searchObj2 = re.search( myRegExp, str2, re.I) #We try to match myRegExp against the string 'str2' with a case insensitive modifier\n",
    "\n",
    "try:\n",
    "    print(searchObj1.group()) #prints all the matches\n",
    "except AttributeError:\n",
    "    print(\"Nothing matched!\")\n",
    "    \n",
    "try:\n",
    "    print(searchObj2.group()) #prints all the matches\n",
    "except AttributeError:\n",
    "    print(\"Nothing matched!\")    "
   ]
  },
  {
   "cell_type": "markdown",
   "metadata": {},
   "source": [
    "#### Grouping matches"
   ]
  },
  {
   "cell_type": "code",
   "execution_count": 16,
   "metadata": {
    "collapsed": false
   },
   "outputs": [
    {
     "name": "stdout",
     "output_type": "stream",
     "text": [
      "TV is lame test dog\n",
      "TV\n",
      "lame\n",
      "dog\n"
     ]
    }
   ],
   "source": [
    "import re #We import the regular expression module\n",
    "\n",
    "line = \"TV is lame test dog\";  #We create a sample string\n",
    "\n",
    "searchObj = re.search( r'(.*) is (.*) test (.*)', line) #We try to match a regular expression against the string 'line' using 2 groups for matches\n",
    "\n",
    "if searchObj: #If the regular expression return a much\n",
    "   print(searchObj.group()) #prints all the matches subgroups\n",
    "   print(searchObj.group(1)) #prints the 1st match\n",
    "   print(searchObj.group(2)) #prints the 2nd match\n",
    "   print(searchObj.group(3))\n",
    "else:\n",
    "   print(\"Nothing found!!\")"
   ]
  },
  {
   "cell_type": "markdown",
   "metadata": {},
   "source": [
    "#### Matching at the beginning and end of a string"
   ]
  },
  {
   "cell_type": "code",
   "execution_count": 17,
   "metadata": {
    "collapsed": false
   },
   "outputs": [
    {
     "name": "stdout",
     "output_type": "stream",
     "text": [
      "TV is lame\n",
      "Nothing found by myRegExp in line2\n"
     ]
    }
   ],
   "source": [
    "import re #We import the regular expression module\n",
    "\n",
    "line1 = \"TV is lame\";  #We create a sample string\n",
    "line2 = \"I think TV is lame and silly\";  #We create another sample string\n",
    "\n",
    "myRegExp = r'^(TV).*(lame)$' # the regular expression needs to start at the beginning of the line and finish at the very end\n",
    "\n",
    "searchObj1 = re.search( myRegExp, line1) #We try to match myRegExp against the string 'line1' \n",
    "searchObj2 = re.search( myRegExp, line2) #We try to match myRegExp against the string 'line2' \n",
    "\n",
    "if searchObj1: #If the regular expression return a match\n",
    "   print(searchObj1.group()) #prints all the matches subgroups\n",
    "else:\n",
    "    print(\"Nothing found by myRegExp in line1\")\n",
    "if searchObj2: #If the regular expression return a match\n",
    "   print(searchObj2.group()) #prints all the matches subgroups\n",
    "else:\n",
    "    print(\"Nothing found by myRegExp in line2\")"
   ]
  },
  {
   "cell_type": "markdown",
   "metadata": {},
   "source": [
    "#### Search and replace"
   ]
  },
  {
   "cell_type": "markdown",
   "metadata": {},
   "source": [
    "One of the most important re methods that use regular expressions is sub."
   ]
  },
  {
   "cell_type": "raw",
   "metadata": {},
   "source": [
    "re.sub(pattern, repl, string, max=0)"
   ]
  },
  {
   "cell_type": "markdown",
   "metadata": {},
   "source": [
    "This method replaces all occurrences of the RE pattern in string with repl, substituting all occurrences unless max provided. This method returns modified string."
   ]
  },
  {
   "cell_type": "code",
   "execution_count": 3,
   "metadata": {
    "collapsed": false
   },
   "outputs": [
    {
     "name": "stdout",
     "output_type": "stream",
     "text": [
      "('Phone Num : ', '2004-959-559 ')\n",
      "('Phone Num : ', '2004959559')\n"
     ]
    }
   ],
   "source": [
    "#!/usr/bin/python\n",
    "import re\n",
    "\n",
    "phone = \"2004-959-559 # This is Phone Number\"\n",
    "\n",
    "# Delete Python-style comments\n",
    "num = re.sub(r'#.*$', \"\", phone)\n",
    "print(\"Phone Num : \", num)\n",
    "\n",
    "# Remove anything other than digits\n",
    "num = re.sub(r'\\D', \"\", phone)    \n",
    "print(\"Phone Num : \", num)"
   ]
  },
  {
   "cell_type": "markdown",
   "metadata": {},
   "source": [
    "#### Assigning names to matches"
   ]
  },
  {
   "cell_type": "markdown",
   "metadata": {},
   "source": [
    "Sometimes it is useful to assign names to subgroups of matches so later in the code we can refer to them. This is particularly useful when working with URLs in Django."
   ]
  },
  {
   "cell_type": "code",
   "execution_count": 43,
   "metadata": {
    "collapsed": false
   },
   "outputs": [
    {
     "name": "stdout",
     "output_type": "stream",
     "text": [
      "Doe\n",
      "John\n",
      "555-1212\n"
     ]
    }
   ],
   "source": [
    "import re\n",
    "contactInfo = 'Doe, John: 555-1212'\n",
    "\n",
    "\"\"\"\n",
    "In the next line I assign the name 'last' to the 1st match of the regular expression so I can later refer to it. \n",
    "I also assigned the names 'first' and 'phone' to the subsequent matches\n",
    "\"\"\"\n",
    "match = re.search(r'(?P<last>\\w+), (?P<first>\\w+): (?P<phone>\\S+)', contactInfo)\n",
    "print(match.group('last'))\n",
    "print(match.group('first'))\n",
    "print(match.group('phone'))"
   ]
  },
  {
   "cell_type": "markdown",
   "metadata": {},
   "source": [
    "### More Examples"
   ]
  },
  {
   "cell_type": "code",
   "execution_count": 45,
   "metadata": {
    "collapsed": false
   },
   "outputs": [
    {
     "name": "stdout",
     "output_type": "stream",
     "text": [
      "100 High RD.\n"
     ]
    }
   ],
   "source": [
    "s = '100 High Road'\n",
    "o = re.sub('Road$', 'RD.', s)\n",
    "print(o)"
   ]
  },
  {
   "cell_type": "code",
   "execution_count": 46,
   "metadata": {
    "collapsed": false
   },
   "outputs": [
    {
     "name": "stdout",
     "output_type": "stream",
     "text": [
      "('800', '555', '1212')\n"
     ]
    }
   ],
   "source": [
    "phonePattern = re.compile(r'^(\\d{3})-(\\d{3})-(\\d{4})$')\n",
    "o = phonePattern.search('800-555-1212').groups()   \n",
    "print(o)"
   ]
  },
  {
   "cell_type": "code",
   "execution_count": 1,
   "metadata": {
    "collapsed": false
   },
   "outputs": [
    {
     "ename": "NameError",
     "evalue": "name 're' is not defined",
     "output_type": "error",
     "traceback": [
      "\u001b[1;31m---------------------------------------------------------------------------\u001b[0m\n\u001b[1;31mNameError\u001b[0m                                 Traceback (most recent call last)",
      "\u001b[1;32m<ipython-input-1-213b60fcacec>\u001b[0m in \u001b[0;36m<module>\u001b[1;34m()\u001b[0m\n\u001b[0;32m      1\u001b[0m \u001b[0mst\u001b[0m \u001b[1;33m=\u001b[0m \u001b[1;34m\"111111z\"\u001b[0m\u001b[1;33m\u001b[0m\u001b[0m\n\u001b[1;32m----> 2\u001b[1;33m \u001b[0mm\u001b[0m \u001b[1;33m=\u001b[0m \u001b[0mre\u001b[0m\u001b[1;33m.\u001b[0m\u001b[0msearch\u001b[0m\u001b[1;33m(\u001b[0m\u001b[1;34m\"^\\d+$\"\u001b[0m\u001b[1;33m,\u001b[0m \u001b[0mst\u001b[0m\u001b[1;33m)\u001b[0m \u001b[1;31m#Notice the caret ^ and dolar $ symbols\u001b[0m\u001b[1;33m\u001b[0m\u001b[0m\n\u001b[0m\u001b[0;32m      3\u001b[0m \u001b[1;32mtry\u001b[0m\u001b[1;33m:\u001b[0m\u001b[1;33m\u001b[0m\u001b[0m\n\u001b[0;32m      4\u001b[0m     \u001b[1;32mprint\u001b[0m\u001b[1;33m(\u001b[0m\u001b[0mm\u001b[0m\u001b[1;33m.\u001b[0m\u001b[0mgroup\u001b[0m\u001b[1;33m(\u001b[0m\u001b[1;33m)\u001b[0m\u001b[1;33m)\u001b[0m\u001b[1;33m\u001b[0m\u001b[0m\n\u001b[0;32m      5\u001b[0m \u001b[1;32mexcept\u001b[0m \u001b[0mAttributeError\u001b[0m\u001b[1;33m:\u001b[0m\u001b[1;33m\u001b[0m\u001b[0m\n",
      "\u001b[1;31mNameError\u001b[0m: name 're' is not defined"
     ]
    }
   ],
   "source": [
    "st = \"z111111z\"\n",
    "m = re.search(\"^\\d+$\", st) #Notice the caret ^ and dolar $ symbols\n",
    "try:\n",
    "    print(m.group())\n",
    "except AttributeError:\n",
    "    print(\"No match!\")"
   ]
  },
  {
   "cell_type": "code",
   "execution_count": 48,
   "metadata": {
    "collapsed": false
   },
   "outputs": [
    {
     "name": "stdout",
     "output_type": "stream",
     "text": [
      "111111\n"
     ]
    }
   ],
   "source": [
    "st = \"z111111z\"\n",
    "m = re.search(\"\\d+\", st)\n",
    "print(m.group())"
   ]
  }
 ],
 "metadata": {
  "kernelspec": {
   "display_name": "Python 3",
   "language": "python",
   "name": "python3"
  },
  "language_info": {
   "codemirror_mode": {
    "name": "ipython",
    "version": 3
   },
   "file_extension": ".py",
   "mimetype": "text/x-python",
   "name": "python",
   "nbconvert_exporter": "python",
   "pygments_lexer": "ipython3",
   "version": "3.5.1"
  }
 },
 "nbformat": 4,
 "nbformat_minor": 0
}

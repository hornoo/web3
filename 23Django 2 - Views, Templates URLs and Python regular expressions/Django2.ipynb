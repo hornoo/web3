{
 "metadata": {
  "kernelspec": {
   "display_name": "Python 3",
   "language": "python",
   "name": "python3"
  },
  "language_info": {
   "codemirror_mode": {
    "name": "ipython",
    "version": 3
   },
   "file_extension": ".py",
   "mimetype": "text/x-python",
   "name": "python",
   "nbconvert_exporter": "python",
   "pygments_lexer": "ipython3",
   "version": "3.5.1"
  },
  "name": "",
  "signature": "sha256:a50254a28cc53fcf5c9ae19243598d2912e2cd364abfeedd737ea8e9d2b36034"
 },
 "nbformat": 3,
 "nbformat_minor": 0,
 "worksheets": [
  {
   "cells": [
    {
     "cell_type": "heading",
     "level": 1,
     "metadata": {},
     "source": [
      "Django 2"
     ]
    },
    {
     "cell_type": "markdown",
     "metadata": {},
     "source": [
      "### Django URLs\n"
     ]
    },
    {
     "cell_type": "markdown",
     "metadata": {},
     "source": [
      "Django uses URLconf (URL configuration). URLconf is a set of patterns that Django will try to match with the received URL to find the correct view to serve to the browser. Let's open up the *mysite/urls.py* file in your code editor of choice and see what it looks like. \n",
      "\n",
      "There is a single URL pattern in that file that matches the URL *domainNameOfYourProject/admin/* (Remember that you visited the admin URL in the previous tutorial.) Notice that when you are working on the local server *domainNameOfYourProject* is  *http://localhost:8000/* or  *http://127.0.0.1:8000*"
     ]
    },
    {
     "cell_type": "code",
     "collapsed": true,
     "input": [
      "urlpatterns = [\n",
      "    url(r'^admin/', admin.site.urls),\n",
      "]"
     ],
     "language": "python",
     "metadata": {},
     "outputs": [],
     "prompt_number": null
    },
    {
     "cell_type": "markdown",
     "metadata": {},
     "source": [
      "This line basically means that for every URL whose path stars with *admin/* Django will find a corresponding view. Recall that a path in a URL is what comes after the resource name. \n",
      "\n",
      "![](./images/url.png)\n",
      "\n",
      "Since the Django project architects want to include by default a lot of admin URLs for different purposes, a compressed notation is use to point Django to a location (admin.site.urls) with an expanded list of admin related URLswith pointing to different views. "
     ]
    },
    {
     "cell_type": "heading",
     "level": 3,
     "metadata": {},
     "source": [
      "Django Regex"
     ]
    },
    {
     "cell_type": "markdown",
     "metadata": {},
     "source": [
      "In order for Django to match URLs to views, Django uses the Python **re** library  for \u201cregular expressions\u201d. To understand the advantages of regular expressions imagine a situation in which you have a website with the following address http://www.mysite.com/post/12345/ , where the number 12345, indicates the number of your post. Writing separate views for all the post numbers would be really inefficient. With regular expressions we can create a pattern that will match the URL and extract the number for us. For instance, the pattern ^post/(\\d+)/$ matches the following:\n",
      "\n",
      "- ^post/ is telling Django to take anything that has post/ at the beginning of the url path (right after ^)\n",
      "- (\\d+) means that there will be a number (\\d+ one or more digits) and that we want the number captured and extracted ()\n",
      "- / tells django that another / character should follow\n",
      "- $ then indicates the end of the URL meaning that only strings ending with the / will match this pattern\n",
      "\n",
      "We will create our first URL That maps a location within our website to a view to handle the HTTP response. We want to make the URL http://127.0.0.1:8000/, the default homepage of our blog to display a list of posts.\n",
      "\n",
      "We also want to keep the *mysite/urls.py* file clean, so we will import urls from our blog application to the main *mysite/urls.py* file. Delete everything  in the *mysite/urls.py* file and instead add the following which includes a line that will import blog.urls into the main url (''). Your *mysite/urls.py* file should now look like this:"
     ]
    },
    {
     "cell_type": "code",
     "collapsed": true,
     "input": [
      "from django.conf.urls import include, url\n",
      "from django.contrib import admin\n",
      "from django.conf.urls import include\n",
      "\n",
      "urlpatterns = [\n",
      "    url(r'^admin/', include(admin.site.urls)),\n",
      "    url(r'', include('blog.urls')),\n",
      "]"
     ],
     "language": "python",
     "metadata": {},
     "outputs": [],
     "prompt_number": null
    },
    {
     "cell_type": "markdown",
     "metadata": {},
     "source": [
      "With the addition of url(r'', include('blog.urls')), Django will now redirect everything that comes into 'http://127.0.0.1:8000/' to blog.urls and look for further instructions there. \n",
      "\n",
      "Note that when writing regular expressions in Python it is always done with r in front of the string. This is a helpful hint for Python that the string may contain special characters that are not meant for Python itself, but for the regular expression instead.\n",
      "\n",
      "Now we need to create the *blog/urls.py* file with the following content."
     ]
    },
    {
     "cell_type": "code",
     "collapsed": true,
     "input": [
      "from django.conf.urls import url\n",
      "from . import views\n",
      "\n",
      "urlpatterns = [\n",
      "    url(r'^$', views.post_list, name='post_list'),\n",
      "]"
     ],
     "language": "python",
     "metadata": {},
     "outputs": [],
     "prompt_number": null
    },
    {
     "cell_type": "markdown",
     "metadata": {},
     "source": [
      "The first 2 lines inform Django that we want to import the function URL and all of our views from the blog application. We don\u2019t have any views yet, but we will create some soon. \n",
      "\n",
      "The single URL pattern now assigning a view called post_list to a URL path defined by the regular expression ^$. This regular expression will match ^ (a beginning) followed immediately after by \\$ (an end) - so only an empty string will match. That's correct, because in Django URL resolvers, 'http://127.0.0.1:8000/' is consider the resource name and is not a part of the URL parth. So the URL resolver is only looking for what comes after the resource name. This pattern will tell Django that views.post_list is the right place to go if someone enters your website at the 'http://127.0.0.1:8000/' address.\n",
      "\n",
      "The last part name='post_list' is the name of the URL that will be used to identify the view. This can be the same as the name of the view but it can also be something completely different. We will be using the named URLs later in the project so it is important to name each URL in the app. We should also try to keep the names of URLs unique and easy to remember.\n",
      "\n",
      "Don't forget to save the file *blog/urls.py* before moving to the next steps."
     ]
    },
    {
     "cell_type": "heading",
     "level": 3,
     "metadata": {},
     "source": [
      "Views"
     ]
    },
    {
     "cell_type": "markdown",
     "metadata": {},
     "source": [
      "Now we need to create the post_list view.  A view is a place where we put the \"logic\" of our application. It will request information from the model you created before and pass it to a template. We'll create a template shortly. Views are just Python functions (or classes in advanced applications).  Views are placed in the views.py file. We will add our views to the *blog/views.py* file by inserting in that file the following code:"
     ]
    },
    {
     "cell_type": "code",
     "collapsed": true,
     "input": [
      "from django.shortcuts import render\n",
      "# Create your views here.\n",
      "def post_list(request):\n",
      "    return render(request, 'blog/post_list.html', {})"
     ],
     "language": "python",
     "metadata": {},
     "outputs": [],
     "prompt_number": null
    },
    {
     "cell_type": "markdown",
     "metadata": {},
     "source": [
      "we have simply created a function (def) called post_list that takes an HTTP request as input argument and returns an HTTP response using a function render that will render (put together) our template blog/post_list.html. Save the file *blog/views.py*\n",
      "\n",
      "Now start up your local Django server. Remember:"
     ]
    },
    {
     "cell_type": "raw",
     "metadata": {},
     "source": [
      "> python manage.py runserver"
     ]
    },
    {
     "cell_type": "markdown",
     "metadata": {},
     "source": [
      "Try to point your browser to the URL http://127.0.0.1:8000/ you should get an error message informing you that the template does not yet exist. \n",
      "\n",
      "![](./images/temp.png)\n",
      "\n",
      "Your Django application is correctly mapping the URL to the view. But when the view tries to render the response, it detects that there is no template yet to do so so the TemplateDoesNotExist message displays."
     ]
    },
    {
     "cell_type": "heading",
     "level": 3,
     "metadata": {},
     "source": [
      "Templates"
     ]
    },
    {
     "cell_type": "markdown",
     "metadata": {},
     "source": [
      "The logical next step is to create a template for the post_list view. A template is a file that we can re-use to present different information in a consistent format - for example, you could use a template to help you write a letter, because although each letter might contain a different message and be addressed to a different person, they will share the same format. A Django template's format is described in  HTML.\n",
      "\n",
      "Creating a template means creating a template file. Templates are saved in *blog/templates/blog* directory. So first create a directory called templates inside your blog directory. Then create another directory called blog inside your templates directory:"
     ]
    },
    {
     "cell_type": "raw",
     "metadata": {},
     "source": [
      "blog\n",
      "\u2514\u2500\u2500\u2500templates\n",
      "    \u2514\u2500\u2500\u2500blog"
     ]
    },
    {
     "cell_type": "markdown",
     "metadata": {},
     "source": [
      "You might be able to get away with putting our templates directly in blog/templates (rather than creating another blog subdirectory as in blog/templates/blog), but it would actually be a bad idea. Django will choose the first template it finds whose name matches, and if you had a template with the same name in a different application, Django would be unable to distinguish between them. We need to be able to point Django at the right one, and the easiest way to ensure this is by namespacing them. That is, by putting those templates inside another directory named for the application itself.\n",
      "\n",
      "Now let\u2019s create a file *post_list.html* inside the blog/templates/blog directory and insert the following HTML code."
     ]
    },
    {
     "cell_type": "code",
     "collapsed": true,
     "input": [
      "<html>\n",
      "    <head>\n",
      "        <title>My Super Blog</title>\n",
      "    </head>\n",
      "    <body>\n",
      "        <p>Hello World!</p>\n",
      "        <p>This seems to be working!</p>\n",
      "    </body>\n",
      "</html>"
     ],
     "language": "python",
     "metadata": {},
     "outputs": [],
     "prompt_number": null
    },
    {
     "cell_type": "markdown",
     "metadata": {},
     "source": [
      "Assuming your Django server is up and running, check out how your website looks now at http://127.0.0.1:8000/.\n",
      "\n",
      "If you still have an error TemplateDoesNotExists, try to restart your server. Go into the command line, stop the server by pressing Ctrl+C (Control and C buttons together) and start it again by running a python manage.py runserver command.\n",
      "You should get something similar to this figure:\n",
      "![](./images/fi.png)\n",
      "\n",
      "The real power of templates however is not being able to display static HTML but rather dynamic HTML built on the fly from information stored in a database. We will move into that territory in the next practical."
     ]
    },
    {
     "cell_type": "heading",
     "level": 3,
     "metadata": {},
     "source": [
      "Improving the look of the admin interface"
     ]
    },
    {
     "cell_type": "markdown",
     "metadata": {},
     "source": [
      "If you go to http://127.0.0.1:8000/admin and display the posts stored in your database through the admin interface you will probably see something similar to the following:\n",
      "\n",
      "![](./images/admin.png)\n",
      "\n",
      "As you can see, the display of our Posts isn't very interesting and just says, \"POST.\" Let's improve this by performing a small admin customization which allows us to select which fields in our Post model table should be displayed in the admin interface for a quick overview of what sort of data it holds. Open the file *blog/admin.py* and add a class called PostAdmin so that you can customize the interface. "
     ]
    },
    {
     "cell_type": "code",
     "collapsed": true,
     "input": [
      "from django.contrib import admin\n",
      "from .models import Post\n",
      "\n",
      "class PostAdmin(admin.ModelAdmin):\n",
      "    list_display = ['title','author','created_date','published_date']\n",
      "\n",
      "admin.site.register(Post, PostAdmin)"
     ],
     "language": "python",
     "metadata": {},
     "outputs": [],
     "prompt_number": null
    },
    {
     "cell_type": "markdown",
     "metadata": {},
     "source": [
      "We use list_display to change its list display attribute. Without list_display being set it simply uses the name of the model and says \"POST\". Instead, I'll give it the fields, title, author, created_date and published_date, that I want it to use when displaying a list display page. To make this class take effect, I need to provide its name as the second argument to the admin.site.register method. Save this file and go back to the browser and see the effect.\n",
      "\n",
      "![](./images/admin2.png)"
     ]
    },
    {
     "cell_type": "heading",
     "level": 3,
     "metadata": {},
     "source": [
      "Deploy"
     ]
    },
    {
     "cell_type": "markdown",
     "metadata": {},
     "source": [
      "Let\u2019s not forget about making our progress today available in our live production server. First, let\u2019s check which files have changed since our previous deployment. Run the following command in your git console inside your project folder (Where you created your repository in the previous tutorial session):"
     ]
    },
    {
     "cell_type": "raw",
     "metadata": {},
     "source": [
      "> git status"
     ]
    },
    {
     "cell_type": "markdown",
     "metadata": {},
     "source": [
      "Request git to include all the changes you may today within this directory. Notice the final **.** to indicate the current directory: \t"
     ]
    },
    {
     "cell_type": "raw",
     "metadata": {},
     "source": [
      "> git add -A ."
     ]
    },
    {
     "cell_type": "markdown",
     "metadata": {},
     "source": [
      "Before we upload all the files to GitHub, let's check what git will be uploading (all the files that git will upload should now appear in green):"
     ]
    },
    {
     "cell_type": "raw",
     "metadata": {},
     "source": [
      "> git status"
     ]
    },
    {
     "cell_type": "markdown",
     "metadata": {},
     "source": [
      "Now it's time to request git to save this change in its history. We're going to give it a \"commit message\" where we describe what we've changed. You can type anything you'd like at this stage, but it's helpful to type something descriptive so that you can remember what you've done today in the future."
     ]
    },
    {
     "cell_type": "raw",
     "metadata": {},
     "source": [
      "> git commit -m \"created URLs, views and templates for the site.\""
     ]
    },
    {
     "cell_type": "markdown",
     "metadata": {},
     "source": [
      "Once we've done that, we upload (push) our changes up to Github:"
     ]
    },
    {
     "cell_type": "raw",
     "metadata": {},
     "source": [
      "> git push"
     ]
    },
    {
     "cell_type": "markdown",
     "metadata": {},
     "source": [
      "Next, we need to pull the code uploaded to GitHub into https://www.pythonanywhere.com.  Open up the PythonAnywhere consoles page and go to your Bash console (or start a new one). "
     ]
    },
    {
     "cell_type": "raw",
     "metadata": {},
     "source": [
      "> cd ~/my-first-blog\n",
      "> source myvenv/bin/activate\n",
      "> git pull"
     ]
    },
    {
     "cell_type": "markdown",
     "metadata": {},
     "source": [
      "If you want to check that your code has arrived, you can hop over to the Files tab and view your code live. Hop on over to the Web tab and hit Reload on your web app. Your update should be live! Go ahead and refresh your website in the browser. Changes should be visible."
     ]
    }
   ],
   "metadata": {}
  }
 ]
}
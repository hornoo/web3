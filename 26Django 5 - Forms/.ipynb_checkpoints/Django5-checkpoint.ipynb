{
 "cells": [
  {
   "cell_type": "markdown",
   "metadata": {},
   "source": [
    "# Django 5 - Forms"
   ]
  },
  {
   "cell_type": "markdown",
   "metadata": {},
   "source": [
    "### Introduction to forms"
   ]
  },
  {
   "cell_type": "markdown",
   "metadata": {},
   "source": [
    "Something missing so far from our blog web application is a convenient way to add and edit blog posts. So far you have been using Django's generic admin tool which is not customized to your specific application. With Django forms we will be able to design a customized interface for our application to add and edit data to our database. We can either define one from scratch or create a ModelForm which will save the result of the form to the model. So let’s begin by creating a form for our Post model. Forms have their own file *forms.py*. Hence we need to create a file with this name in the blog application directory."
   ]
  },
  {
   "cell_type": "raw",
   "metadata": {},
   "source": [
    "blog\n",
    "   └── forms.py"
   ]
  },
  {
   "cell_type": "markdown",
   "metadata": {},
   "source": [
    "Add the following code to the *forms.py* file:"
   ]
  },
  {
   "cell_type": "code",
   "execution_count": null,
   "metadata": {
    "collapsed": true
   },
   "outputs": [],
   "source": [
    "from django import forms\n",
    "from .models import Post\n",
    "\n",
    "class PostForm(forms.ModelForm):\n",
    "    class Meta:\n",
    "        model = Post\n",
    "        fields = ('title', 'text',)"
   ]
  },
  {
   "cell_type": "markdown",
   "metadata": {},
   "source": [
    "We are first importing the forms library and then our Post model. PostForm is the name of our form class.  We need to specify to Django that this class inherits from  the generic ModelForm. Within the PostForm we specified to Django which model should be used to create this form (model = Post). Finally, we specify which fields should appear in our form. We will stick to a minimalistic scenario so we will only specify title and text. The author field will be automatically filled by the person who is currently logged through the admin interface. The created_date field should be filled automatically when a post is created. In the next steps we will use the form in a view and display it through a template. So we will create a link to the page, a URL pattern, a view and a template.\n",
    "\n",
    "\n",
    "Open the file *blog/templates/blog/base.html* and add a link as a first child of the div named page–header."
   ]
  },
  {
   "cell_type": "code",
   "execution_count": null,
   "metadata": {
    "collapsed": true
   },
   "outputs": [],
   "source": [
    "<a href=\"{% url 'post_new' %}\" class=\"top-menu\"><span class=\"glyphicon glyphicon-plus\"></span></a>"
   ]
  },
  {
   "cell_type": "markdown",
   "metadata": {},
   "source": [
    "We want to call our new view that creates a new blog post and stores it in the database post_new. That is why we are using the URL tag  with parameter post_new. The class name \"glyphicon glyphicon-plus\" of the span element is used to take advantage of a bootstrap theme to display a nice looking plus sign icon to indicate that by clicking in that icon, the user will be taken to a page with an input form.\n",
    "\n",
    "Next, open the blog/urls.py file and add the following line to the list of urlpatterns:"
   ]
  },
  {
   "cell_type": "code",
   "execution_count": null,
   "metadata": {
    "collapsed": true
   },
   "outputs": [],
   "source": [
    "url(r'^post/new/$', views.post_new, name='post_new'),"
   ]
  },
  {
   "cell_type": "markdown",
   "metadata": {},
   "source": [
    "Note that we are defining a new URL ^post/new/$ and mapping it to the view post_new. Therefore, the next step is for you to open the file *blog/views.py* and add the following import and method, while leaving the remaining of the file intact."
   ]
  },
  {
   "cell_type": "code",
   "execution_count": null,
   "metadata": {
    "collapsed": true
   },
   "outputs": [],
   "source": [
    "from .forms import PostForm\n",
    "\n",
    "def post_new(request):\n",
    "    form = PostForm()\n",
    "    return render(request, 'blog/post_edit.html', {'form': form})"
   ]
  },
  {
   "cell_type": "markdown",
   "metadata": {},
   "source": [
    "Finally, we need to create a template associated with the post_new view by creating the file *blog/templates/blog/post_edit.html*. "
   ]
  },
  {
   "cell_type": "code",
   "execution_count": null,
   "metadata": {
    "collapsed": true
   },
   "outputs": [],
   "source": [
    "{% extends 'blog/base.html' %}\n",
    "\n",
    "{% block content %}\n",
    "    <h1>New post</h1>\n",
    "    <form method=\"POST\" class=\"post-form\">{% csrf_token %}\n",
    "        {{ form.as_p }}\n",
    "        <button type=\"submit\" class=\"save btn btn-default\">Save</button>\n",
    "    </form>\n",
    "{% endblock %}"
   ]
  },
  {
   "cell_type": "markdown",
   "metadata": {},
   "source": [
    "Try to understand the code above:\n",
    "\n",
    "- To display the form we use a simple {{ form.as_p }} tag.\n",
    "- We need to wrap the display of the form inside an HTML form tag: < form method=\"POST\" >...< /form >\n",
    "- We need a Save button inside the form HTML element. We do that with an HTML button:  < button type=\"submit\" >Save< /button >\n",
    "- We need to add {% csrf_token %}. This is very important, since it makes your forms secure to cross sites request forgeries! Django will complain if you forget about this bit when saving the form."
   ]
  },
  {
   "cell_type": "markdown",
   "metadata": {},
   "source": [
    "Activate your local Web server and go to http://127.0.0.1:8000/ and click in the plust sign icon or go directly to http://127.0.0.1:8000/post/new/ , you should be able to see your new template with a form for creating a post. Make sure you understand why that form displays at the URL http://127.0.0.1:8000/post/new/."
   ]
  },
  {
   "cell_type": "raw",
   "metadata": {},
   "source": [
    "> python manage.py runserver"
   ]
  },
  {
   "cell_type": "markdown",
   "metadata": {},
   "source": [
    "![](./images/form.png)\n",
    "\n",
    "The form is looking good. However, if you type something in the title and text fields and press the save button, your input will simply disappear and nothing will happen. We need to add more logic to our view.\n",
    "\n",
    "Open the  *blog/views.py* file. Currently, when we submit the form, we are brought back to the same view. However, we have some data in the HTTP request object. More specifically in the request.POST attribute . This naming has nothing to do with the post template, instead it specifies the type of data submission available within an HTTP request (GET or POST). Therefore, all the fields in the form in our post_edit.htm template sit now in  request.POST. \n",
    "\n",
    "To recap, in our view we have to handle two different scenarios. The first one is when we access the page for the first time and we want a black form. The second is when we go back to the view after all the form's data has been typed. Therefore, we need to add a condition using an if statement to the post_new method in the *blog/views.py* file."
   ]
  },
  {
   "cell_type": "code",
   "execution_count": 2,
   "metadata": {
    "collapsed": true
   },
   "outputs": [],
   "source": [
    "from django.shortcuts import redirect\n",
    "\n",
    "def post_new(request):\n",
    "    if request.method == \"POST\":\n",
    "        form = PostForm(request.POST)\n",
    "        if form.is_valid():\n",
    "            post = form.save(commit=False)\n",
    "            post.author = request.user\n",
    "            post.published_date = timezone.now()\n",
    "            post.save()\n",
    "            return redirect('post_detail', pk=post.pk)\n",
    "    else:\n",
    "        form = PostForm()\n",
    "    return render(request, 'blog/post_edit.html', {'form': form})"
   ]
  },
  {
   "cell_type": "markdown",
   "metadata": {},
   "source": [
    "Basically, if  request.method == \"POST\", we want to construct the PostForm with data from the form: form = PostForm(request.POST). \n",
    "\n",
    "Next, we want to check if the form is correct. Basically making sure all required fields are set and no incorrect characters have been input. We do that with the form.is_valid() function. If the form is valid, we save it: form.save(). Previously, we have filled the data in the post object about the author and the published_date. The commit=False bit means that we don't want to save the Post model yet - we want to add the field author first. Most of the time you will use form.save(), without commit=False, but in this case, we need to do that. Otherwise, post.save() will preserve changes and a new blog post is created before including the additional data we want to include.\n",
    "\n",
    "Finally, we would like to go immediately  to the post_detail page after posting to the page to check out the newly created blog post. That’s what return redirect('post_detail', pk=post.pk) does (post_detail is the name of the view we want to go to). Recall that the post_detail view requires a pk variable (primary key).\n",
    "\n",
    "Let’s see if it works. Go to the page http://127.0.0.1:8000/post/new/, add a title and text and save it. The new blog post should have been added and we should have been redirected to the post_detail page.\n",
    "\n",
    "If you get the following error:\n",
    "\n",
    "![](./images/error.png)\n",
    "\n",
    "You need to login in the admin page at http://127.0.0.1:8000/admin and try again. Login in the admin page should fix the issue temporarily until you close the browser, restart the DB or log out from the admin page. We will fix this issue when we add security to our system in a future session."
   ]
  },
  {
   "cell_type": "markdown",
   "metadata": {},
   "source": [
    "### Edit an existing post"
   ]
  },
  {
   "cell_type": "markdown",
   "metadata": {},
   "source": [
    "Let’s now add the functionality of being able to edit an existing post. Open the *blog/templates/blog/post_detail.html* file and add the following line right before the  < h1 >{{ post.title }}< /h1 > line, to add a nice edit icon to each blog post detail template:"
   ]
  },
  {
   "cell_type": "code",
   "execution_count": null,
   "metadata": {
    "collapsed": true
   },
   "outputs": [],
   "source": [
    "<a class=\"btn btn-default\" href=\"{% url 'post_edit' pk=post.pk %}\"><span class=\"glyphicon glyphicon-pencil\"></span></a>"
   ]
  },
  {
   "cell_type": "markdown",
   "metadata": {},
   "source": [
    "Now, in the *blog/urls.py* file, add the following element to the urlpatterns list:"
   ]
  },
  {
   "cell_type": "code",
   "execution_count": null,
   "metadata": {
    "collapsed": true
   },
   "outputs": [],
   "source": [
    "url(r'^post/(?P<pk>\\d+)/edit/$', views.post_edit, name='post_edit'),"
   ]
  },
  {
   "cell_type": "markdown",
   "metadata": {},
   "source": [
    "Next, add the post_edit method to the *blog/views.py* file to make it look like the following:"
   ]
  },
  {
   "cell_type": "code",
   "execution_count": null,
   "metadata": {
    "collapsed": true
   },
   "outputs": [],
   "source": [
    "def post_edit(request, pk):\n",
    "    post = get_object_or_404(Post, pk=pk)\n",
    "    if request.method == \"POST\":\n",
    "        form = PostForm(request.POST, instance=post)\n",
    "        if form.is_valid():\n",
    "            post = form.save(commit=False)\n",
    "            post.author = request.user\n",
    "            post.published_date = timezone.now()\n",
    "            post.save()\n",
    "            return redirect('post_detail', pk=post.pk)\n",
    "    else:\n",
    "        form = PostForm(instance=post)\n",
    "    return render(request, 'blog/post_edit.html', {'form': form})"
   ]
  },
  {
   "cell_type": "markdown",
   "metadata": {},
   "source": [
    "You might have noticed that the post_edit view looks very similar to post_new view. The difference is that we pass an extra pk parameter from urls. Then, we get the Post model we want to edit with get_object_or_404(Post, pk=pk) and then, when we create a form we pass this post as an instance both when we save the form (form = PostForm(request.POST, instance=post)) and when we just opened a form (form = PostForm(instance=post)). \n",
    "\n",
    "Now if you clicking any of your posts on your site main page http://127.0.0.1:8000/, you should see an edit button in the post detail template. If you click on it, you should be able to edit your post.\n",
    "\n",
    "![](./images/edit.png)"
   ]
  },
  {
   "cell_type": "markdown",
   "metadata": {},
   "source": [
    "### Security intro"
   ]
  },
  {
   "cell_type": "markdown",
   "metadata": {},
   "source": [
    "One important limitation of your website as it stands now is that anyone that visits the site will be able to edit a blog post. That’s probably not a desirable feature for most types of websites. Let’s change our project so the edit and add buttons show up only for logged in users but not for anyone else.\n",
    "\n",
    "In the file *blog/templates/blog/base.html*, substitute the anchor element glyphicone showing the plus icon (denoting the creation of a new blog post) inside the page-header div for the following in order for the link to only show up for users that are logged into the admin:"
   ]
  },
  {
   "cell_type": "code",
   "execution_count": null,
   "metadata": {
    "collapsed": true
   },
   "outputs": [],
   "source": [
    "{% if user.is_authenticated %}\n",
    "    <a href=\"{% url 'post_new' %}\" class=\"top-menu\"><span class=\"glyphicon glyphicon-plus\"></span></a>\n",
    "{% endif %}"
   ]
  },
  {
   "cell_type": "markdown",
   "metadata": {},
   "source": [
    "The {% if %} will cause the plus sign link only to appear in the browser if the user requesting the page is logged in. \n",
    "\n",
    "We want to add a similar change to the edit button of an individual post, so anyone not logged in will be unable to edit existing posts. Open the *blog/templates/blog/post_detail.html* file and substitute the code adding a glyphicon by surrounding it with the if statement tag.\n"
   ]
  },
  {
   "cell_type": "code",
   "execution_count": null,
   "metadata": {
    "collapsed": true
   },
   "outputs": [],
   "source": [
    "{% if user.is_authenticated %}\n",
    "    <a class=\"btn btn-default\" href=\"{% url 'post_edit' pk=post.pk %}\"><span class=\"glyphicon glyphicon-pencil\"></span></a>\n",
    "{% endif %}"
   ]
  },
  {
   "cell_type": "markdown",
   "metadata": {},
   "source": [
    "Open the page now (http://127.0.0.1:8000) with your usual browser and verify that the plus and pencil icons still appear where appropriate. Then, open the webpage in a new browser distinct from the one you have been using so far and where you are not logged in and verify that the plus and pencil icons do not appear in the browser when the user is not logged in through the admin interface."
   ]
  },
  {
   "cell_type": "markdown",
   "metadata": {},
   "source": [
    "### Deploying our progress"
   ]
  },
  {
   "cell_type": "markdown",
   "metadata": {},
   "source": [
    "Let’s upload today’s practical advances to our production server. Once again, from your git console type:"
   ]
  },
  {
   "cell_type": "raw",
   "metadata": {},
   "source": [
    "> git status\n",
    "> git add -A .\n",
    "> git status\n",
    "> git commit -m \"Added views and templates to create/edit posts inside the site and basic security.\"\n",
    "> git push"
   ]
  },
  {
   "cell_type": "markdown",
   "metadata": {},
   "source": [
    "Then, log back in to https://www.pythonanywhere.com/ and go to your Bash console (or start a new one), and run:"
   ]
  },
  {
   "cell_type": "raw",
   "metadata": {},
   "source": [
    "> cd ~/my-first-blog\n",
    "> source myvenv/bin/activate \n",
    "> git pull"
   ]
  },
  {
   "cell_type": "markdown",
   "metadata": {},
   "source": [
    "Finally, hop on over to the Web tab and hit <font color=\"green\">**Reload** </font> on your web app. Your update should be live!"
   ]
  }
 ],
 "metadata": {
  "kernelspec": {
   "display_name": "Python 3",
   "language": "python",
   "name": "python3"
  },
  "language_info": {
   "codemirror_mode": {
    "name": "ipython",
    "version": 3
   },
   "file_extension": ".py",
   "mimetype": "text/x-python",
   "name": "python",
   "nbconvert_exporter": "python",
   "pygments_lexer": "ipython3",
   "version": "3.5.1"
  }
 },
 "nbformat": 4,
 "nbformat_minor": 0
}

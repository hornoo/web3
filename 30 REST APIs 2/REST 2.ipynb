{
 "cells": [
  {
   "cell_type": "markdown",
   "metadata": {},
   "source": [
    "# RESTful APIs - Django REST framework 2"
   ]
  },
  {
   "cell_type": "markdown",
   "metadata": {},
   "source": [
    "### Authentication & Permissions"
   ]
  },
  {
   "cell_type": "markdown",
   "metadata": {},
   "source": [
    "Currently our API doesn't have any restrictions on who can edit or delete book items. We need to include in our API more advanced behavior in order to make sure that:\n",
    "\n",
    "- Book items are always associated with a creator.\n",
    "- Only authenticated users may create, update or delete book items.\n",
    "- Unauthenticated requests should have just read-only access.\n",
    "\n",
    "To begin, we're going to make a changes to our Book model class. Let's add a field to represent the user who created a book item. Hence, add the following field to the Book model in *models.py*."
   ]
  },
  {
   "cell_type": "code",
   "execution_count": null,
   "metadata": {
    "collapsed": true
   },
   "outputs": [],
   "source": [
    "owner = models.ForeignKey('auth.User', related_name='books')"
   ]
  },
  {
   "cell_type": "markdown",
   "metadata": {},
   "source": [
    "Next, let's  delete our current database and the migrations we have a acumulated so far. If you're working with Linux, type the following in your operating system shell:"
   ]
  },
  {
   "cell_type": "raw",
   "metadata": {},
   "source": [
    "> rm -f tmp.db db.sqlite3\n",
    "> rm -r books/migrations"
   ]
  },
  {
   "cell_type": "markdown",
   "metadata": {},
   "source": [
    "If you are working in Windows, type the following to delete the database and migration files."
   ]
  },
  {
   "cell_type": "raw",
   "metadata": {},
   "source": [
    "> del tmp.db db.sqlite3\n",
    "> rmdir .\\books\\migrations /s /q"
   ]
  },
  {
   "cell_type": "markdown",
   "metadata": {},
   "source": [
    "Next we will re-create our database:"
   ]
  },
  {
   "cell_type": "raw",
   "metadata": {},
   "source": [
    "> python manage.py makemigrations books\n",
    "> python manage.py migrate"
   ]
  },
  {
   "cell_type": "markdown",
   "metadata": {},
   "source": [
    "Create also a couple of users for testing the API. Create at least a superuser with user name: **admin** and password: **password123**. **<font color=\"red\"> This is important since these are the credentials I will use to test your application!</font>**"
   ]
  },
  {
   "cell_type": "raw",
   "metadata": {},
   "source": [
    "> python manage.py createsuperuser"
   ]
  },
  {
   "cell_type": "markdown",
   "metadata": {},
   "source": [
    "Since we've got some users in our Web API to work with, we need to add a representation of those users to our API. Hence, we need to create a new serializer. In *serializers.py* add the following to the existing code:"
   ]
  },
  {
   "cell_type": "code",
   "execution_count": null,
   "metadata": {
    "collapsed": true
   },
   "outputs": [],
   "source": [
    "class UserSerializer(serializers.ModelSerializer):\n",
    "    books = serializers.PrimaryKeyRelatedField(many=True, queryset=Book.objects.all())\n",
    "\n",
    "    class Meta:\n",
    "        model = User\n",
    "        fields = ('id', 'username', 'books')"
   ]
  },
  {
   "cell_type": "markdown",
   "metadata": {},
   "source": [
    "Because 'books' is a reverse relationship on the User model, it will not be included by default when using the ModelSerializer class, so we needed to add an explicit field for it.\n",
    "\n",
    "We'll also add a couple of views to views.py. We'd like to just use read-only views for the user representations. The REST framework provides predefined views that takes advantage of the fact that any model-backed API views we create are going to be very similar in terms of create/retrieve/update/delete operations.\n",
    "Those bits of common behaviour are implemented in REST framework's mixin classes. With mixed-in generic views we can trim down our views.py module since we don't have to specify directly what to do for GET/POST/PUT/DELETE requests. That functionality is already predefined. Hence, we'll use the ListAPIView and RetrieveAPIView generic class based views. \n",
    "\n",
    "Add the following to your *views.py* file:"
   ]
  },
  {
   "cell_type": "code",
   "execution_count": null,
   "metadata": {
    "collapsed": true
   },
   "outputs": [],
   "source": [
    "from django.contrib.auth.models import User\n",
    "from rest_framework import generics\n",
    "from books.serializers import UserSerializer\n",
    "\n",
    "class UserList(generics.ListAPIView):\n",
    "    queryset = User.objects.all()\n",
    "    serializer_class = UserSerializer\n",
    "\n",
    "\n",
    "class UserDetail(generics.RetrieveAPIView):\n",
    "    queryset = User.objects.all()\n",
    "    serializer_class = UserSerializer"
   ]
  },
  {
   "cell_type": "markdown",
   "metadata": {},
   "source": [
    "Finally we need to add those views into the API, by referencing them from the URL conf. Add the following to the patterns in urls.py of your book application."
   ]
  },
  {
   "cell_type": "code",
   "execution_count": null,
   "metadata": {
    "collapsed": true
   },
   "outputs": [],
   "source": [
    "url(r'^users/$', views.UserList.as_view()),\n",
    "url(r'^users/(?P<pk>[0-9]+)/$', views.UserDetail.as_view()),"
   ]
  },
  {
   "cell_type": "markdown",
   "metadata": {},
   "source": [
    "### Associating books with users"
   ]
  },
  {
   "cell_type": "markdown",
   "metadata": {},
   "source": [
    "Right now, if we created a book instance, there'd be no way of associating the user that created the book, with the book instance. The user isn't sent as part of the serialized representation, but is instead a property of the incoming request.\n",
    "\n",
    "The way we deal with that is by rewritting the post method of the BookList view in *views.py*. This will allow us to modify how the instance save method is managed and handle any information that is implicit in the incoming request or requested URL.\n",
    "\n",
    "On the BookList view class, replace the post method with the following method:"
   ]
  },
  {
   "cell_type": "code",
   "execution_count": null,
   "metadata": {
    "collapsed": true
   },
   "outputs": [],
   "source": [
    "def post(self, request, format=None):\n",
    "    serializer = BookSerializer(data=request.data)\n",
    "    if serializer.is_valid():\n",
    "        serializer.save(owner=self.request.user)\n",
    "        return Response(serializer.data, status=status.HTTP_201_CREATED)\n",
    "    return Response(serializer.errors, status=status.HTTP_400_BAD_REQUEST)"
   ]
  },
  {
   "cell_type": "markdown",
   "metadata": {},
   "source": [
    "The serializer.save() method will now be passed an additional 'owner' field, along with the validated data from the request.\n",
    "\n",
    "Now that books are associated with the user that created them, let's update our BookSerializer to reflect that. Add the following field to the BookSerializer definition in *serializers.py*:"
   ]
  },
  {
   "cell_type": "code",
   "execution_count": null,
   "metadata": {
    "collapsed": true
   },
   "outputs": [],
   "source": [
    "owner = serializers.ReadOnlyField(source='owner.username')"
   ]
  },
  {
   "cell_type": "markdown",
   "metadata": {},
   "source": [
    "Make sure you also add 'owner', to the list of fields in the inner Meta class of the BookSerializer."
   ]
  },
  {
   "cell_type": "markdown",
   "metadata": {},
   "source": [
    "### Adding required permissions to views"
   ]
  },
  {
   "cell_type": "markdown",
   "metadata": {},
   "source": [
    "Now that book items are associated with users, we want to make sure that only authenticated users are able to create, update and delete book items.\n",
    "\n",
    "REST framework includes a number of permission classes that we can use to restrict who can access a given view. In this case the one we're looking for is IsAuthenticatedOrReadOnly, which will ensure that authenticated requests get read-write access, and unauthenticated requests get read-only access.\n",
    "\n",
    "First add the following import in the *views.py* module"
   ]
  },
  {
   "cell_type": "code",
   "execution_count": null,
   "metadata": {
    "collapsed": true
   },
   "outputs": [],
   "source": [
    "from rest_framework import permissions"
   ]
  },
  {
   "cell_type": "markdown",
   "metadata": {},
   "source": [
    "Then, add the following property to both the BookList and BookDetail view classes."
   ]
  },
  {
   "cell_type": "code",
   "execution_count": null,
   "metadata": {
    "collapsed": true
   },
   "outputs": [],
   "source": [
    "permission_classes = (permissions.IsAuthenticatedOrReadOnly,)"
   ]
  },
  {
   "cell_type": "markdown",
   "metadata": {},
   "source": [
    "After the addition of the previous functionality, you should notice that you can still carry out GET HTTP requests on your API application either through the Browsable API (http://127.0.0.1:8000/books/) or through the command line:"
   ]
  },
  {
   "cell_type": "raw",
   "metadata": {},
   "source": [
    ">http GET http://127.0.0.1:8000/books/"
   ]
  },
  {
   "cell_type": "markdown",
   "metadata": {},
   "source": [
    "Notice however, that through the browsable API you don't have the option any longer of uploading data to your web API. \n",
    "\n",
    "Also, if you try a POST request through the command line:"
   ]
  },
  {
   "cell_type": "code",
   "execution_count": null,
   "metadata": {
    "collapsed": true
   },
   "outputs": [],
   "source": [
    "http --json POST http://127.0.0.1:8000/books/ owner=\"yourusername\" title=\"Economic Facts and Fallacies\" author=\"Thomas Sowell\" intro=\"In Economic Facts and Fallacies, Thomas Sowell exposes some of the most popular fallacies about economic issues in a lively manner that does not require any prior knowledge of economics.\" price=10.67 url=\"http://www.amazon.com/Economic-Facts-Fallacies-Thomas-Sowell/dp/0465022030/ref=pd_sim_14_3\""
   ]
  },
  {
   "cell_type": "markdown",
   "metadata": {},
   "source": [
    "You will be notified that you haven't provided the authentication credentials and hence you are not allowed to carry out a POST request.\n",
    "\n",
    "To remedy this situation in the browsable API application, we can add a login view for use with the browsable API, by editing the URLconf in our project-level urls.py file (*resttutorial/urls.py*). Add the following import to the top of the file:"
   ]
  },
  {
   "cell_type": "code",
   "execution_count": null,
   "metadata": {
    "collapsed": true
   },
   "outputs": [],
   "source": [
    "from django.conf.urls import include"
   ]
  },
  {
   "cell_type": "markdown",
   "metadata": {},
   "source": [
    "And the following URL pattern to the urlpatterns list:"
   ]
  },
  {
   "cell_type": "code",
   "execution_count": null,
   "metadata": {
    "collapsed": true
   },
   "outputs": [],
   "source": [
    "url(r'^api-auth/', include('rest_framework.urls', namespace='rest_framework')),"
   ]
  },
  {
   "cell_type": "markdown",
   "metadata": {},
   "source": [
    "The r'^api-auth/' part of pattern can actually be whatever URL you want to use. The only restriction is that the included urls must use the 'rest_framework' namespace. In Django 1.9+, REST framework will set the namespace, so you may leave it out.\n",
    "\n",
    "Now if you open up the browser again and refresh the page you'll see a 'Login' link in the top right of the page. If you log in as one of the users you created earlier, you'll be able to create code books instances again.\n",
    "\n",
    "Once you've created a few code books, navigate to the '/users/' endpoint, and notice that the representation includes a list of the books primary keys (pks) that are associated with each user, in each user's 'books' field.\n",
    "\n",
    "If we're interacting with the API programmatically, we need to explicitly provide the authentication credentials on each request."
   ]
  },
  {
   "cell_type": "raw",
   "metadata": {
    "collapsed": true
   },
   "source": [
    "> http -a yourusername:yourpassword --json POST http://127.0.0.1:8000/books/ owner=1 author=\"ZZZ\" intro=\"BBB\" price=1.00 url=\"http://www.google.com\""
   ]
  },
  {
   "cell_type": "markdown",
   "metadata": {},
   "source": [
    "### Adding pagination"
   ]
  },
  {
   "cell_type": "markdown",
   "metadata": {},
   "source": [
    "The list views for users and book instances could end up returning quite a lot of instances if your database contains a lot of data. Hence, we'd like to paginate the results and allow the API client to step through each of the individual pages 10 items at a time. The implementation of this part of the tutorial is left for you as an exercise. "
   ]
  }
 ],
 "metadata": {
  "kernelspec": {
   "display_name": "Python 3",
   "language": "python",
   "name": "python3"
  },
  "language_info": {
   "codemirror_mode": {
    "name": "ipython",
    "version": 3
   },
   "file_extension": ".py",
   "mimetype": "text/x-python",
   "name": "python",
   "nbconvert_exporter": "python",
   "pygments_lexer": "ipython3",
   "version": "3.5.1"
  }
 },
 "nbformat": 4,
 "nbformat_minor": 0
}

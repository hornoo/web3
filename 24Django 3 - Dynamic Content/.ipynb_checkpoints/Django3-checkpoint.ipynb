{
 "metadata": {
  "kernelspec": {
   "display_name": "Python 3",
   "language": "python",
   "name": "python3"
  },
  "language_info": {
   "codemirror_mode": {
    "name": "ipython",
    "version": 3
   },
   "file_extension": ".py",
   "mimetype": "text/x-python",
   "name": "python",
   "nbconvert_exporter": "python",
   "pygments_lexer": "ipython3",
   "version": "3.5.1"
  },
  "name": "",
  "signature": "sha256:84c3f51d2bb12eb448e8e59ca3e8bcd0b402a67e3796876afb783d0c2c0cab49"
 },
 "nbformat": 3,
 "nbformat_minor": 0,
 "worksheets": [
  {
   "cells": [
    {
     "cell_type": "heading",
     "level": 1,
     "metadata": {},
     "source": [
      "Django 3 - Dynamic Content"
     ]
    },
    {
     "cell_type": "heading",
     "level": 3,
     "metadata": {},
     "source": [
      "Django Object-relational Mapper (ORM) and QuerySets"
     ]
    },
    {
     "cell_type": "markdown",
     "metadata": {},
     "source": [
      "We will start by exploring how Django connects to the database and stores data in it. A QuerySet is a list of objects of a given model. QuerySet allows you to read the data from the database, filter it and order it. Open up your local console in the directory containing your project and type the following in order to open a Django friendly Python interactive console prompt:"
     ]
    },
    {
     "cell_type": "raw",
     "metadata": {},
     "source": [
      "> python manage.py shell"
     ]
    },
    {
     "cell_type": "markdown",
     "metadata": {},
     "source": [
      "Let\u2019s first import our model Post from blog.models by typing:"
     ]
    },
    {
     "cell_type": "code",
     "collapsed": true,
     "input": [
      "from blog.models import Post"
     ],
     "language": "python",
     "metadata": {},
     "outputs": [],
     "prompt_number": null
    },
    {
     "cell_type": "markdown",
     "metadata": {},
     "source": [
      "Now we can display all of our posts that we created earlier using the Django admin interface:"
     ]
    },
    {
     "cell_type": "code",
     "collapsed": true,
     "input": [
      "Post.objects.all()"
     ],
     "language": "python",
     "metadata": {},
     "outputs": [],
     "prompt_number": null
    },
    {
     "cell_type": "markdown",
     "metadata": {},
     "source": [
      "Note: if you get an error such as  \u201cno such table:\u201d, you need to exit the Python shell and in the command prompt type:"
     ]
    },
    {
     "cell_type": "raw",
     "metadata": {},
     "source": [
      "> python manage.py makemigrations \n",
      "> python manage.py migrate"
     ]
    },
    {
     "cell_type": "markdown",
     "metadata": {},
     "source": [
      "Next, we will create a new post using the Python shell. But first we need a user model. What are the users in our database? Try the following to find out:"
     ]
    },
    {
     "cell_type": "code",
     "collapsed": true,
     "input": [
      "from django.contrib.auth.models import User\n",
      "User.objects.all()"
     ],
     "language": "python",
     "metadata": {},
     "outputs": [],
     "prompt_number": null
    },
    {
     "cell_type": "markdown",
     "metadata": {},
     "source": [
      "You should get as the return the superuser we created in Django Tutorial 1. Let\u2019s create an instance of that user:"
     ]
    },
    {
     "cell_type": "code",
     "collapsed": true,
     "input": [
      "me = User.objects.get(username='yourUsernameGoesHere')"
     ],
     "language": "python",
     "metadata": {},
     "outputs": [],
     "prompt_number": null
    },
    {
     "cell_type": "markdown",
     "metadata": {},
     "source": [
      "now we can create our post:"
     ]
    },
    {
     "cell_type": "code",
     "collapsed": true,
     "input": [
      "Post.objects.create(author=me, title='Sample title', text='Test')"
     ],
     "language": "python",
     "metadata": {},
     "outputs": [],
     "prompt_number": null
    },
    {
     "cell_type": "markdown",
     "metadata": {},
     "source": [
      "Make sure it worked:"
     ]
    },
    {
     "cell_type": "code",
     "collapsed": true,
     "input": [
      "Post.objects.all()"
     ],
     "language": "python",
     "metadata": {},
     "outputs": [],
     "prompt_number": null
    },
    {
     "cell_type": "markdown",
     "metadata": {},
     "source": [
      "you should see that the post object you just created is the last element in the returned array."
     ]
    },
    {
     "cell_type": "markdown",
     "metadata": {},
     "source": [
      "An important feature of QuerySets is that you can filter them. We can for example output all the posts authored by a certain user or all the posts created before a certain date."
     ]
    },
    {
     "cell_type": "code",
     "collapsed": true,
     "input": [
      "Post.objects.filter(author=me)\n",
      "Post.objects.filter(title__contains='title')"
     ],
     "language": "python",
     "metadata": {},
     "outputs": [],
     "prompt_number": null
    },
    {
     "cell_type": "markdown",
     "metadata": {},
     "source": [
      "we can also get a list of all published posts. We can do that by filtering all the posts that have published_date set in the past:"
     ]
    },
    {
     "cell_type": "code",
     "collapsed": true,
     "input": [
      "from django.utils import timezone\n",
      "Post.objects.filter(published_date__lte=timezone.now())"
     ],
     "language": "python",
     "metadata": {},
     "outputs": [],
     "prompt_number": null
    },
    {
     "cell_type": "markdown",
     "metadata": {},
     "source": [
      "Notice that the post we just added from the Python console has not been published yet. We can change that. First we get an instance of the post we want to publish:"
     ]
    },
    {
     "cell_type": "code",
     "collapsed": true,
     "input": [
      "post = Post.objects.get(title=\"Sample title\")"
     ],
     "language": "python",
     "metadata": {},
     "outputs": [],
     "prompt_number": null
    },
    {
     "cell_type": "markdown",
     "metadata": {},
     "source": [
      "and then we can publish it, using the publish() method we created in the Post model:"
     ]
    },
    {
     "cell_type": "code",
     "collapsed": true,
     "input": [
      "post.publish()"
     ],
     "language": "python",
     "metadata": {},
     "outputs": [],
     "prompt_number": null
    },
    {
     "cell_type": "markdown",
     "metadata": {},
     "source": [
      "now if we list all the published\u2019s posts again, the recently created post should be in the returned list:"
     ]
    },
    {
     "cell_type": "code",
     "collapsed": true,
     "input": [
      "Post.objects.filter(published_date__lte=timezone.now())"
     ],
     "language": "python",
     "metadata": {},
     "outputs": [],
     "prompt_number": null
    },
    {
     "cell_type": "markdown",
     "metadata": {},
     "source": [
      "QuerySets also provide the functionality of sorting the list of objects. Let\u2019s do that by ordering the posts in our application by the created_date field:"
     ]
    },
    {
     "cell_type": "code",
     "collapsed": true,
     "input": [
      "Post.objects.order_by('created_date')"
     ],
     "language": "python",
     "metadata": {},
     "outputs": [],
     "prompt_number": null
    },
    {
     "cell_type": "markdown",
     "metadata": {},
     "source": [
      "we can easily reverse the order by adding a \u2013 symbol at the beginning of the parameter:"
     ]
    },
    {
     "cell_type": "code",
     "collapsed": true,
     "input": [
      "Post.objects.order_by('-created_date')"
     ],
     "language": "python",
     "metadata": {},
     "outputs": [],
     "prompt_number": null
    },
    {
     "cell_type": "markdown",
     "metadata": {},
     "source": [
      "Finally, we can also combine QuerySets by chaining them together:"
     ]
    },
    {
     "cell_type": "code",
     "collapsed": true,
     "input": [
      "Post.objects.filter(published_date__lte=timezone.now()).order_by('published_date')"
     ],
     "language": "python",
     "metadata": {},
     "outputs": [],
     "prompt_number": null
    },
    {
     "cell_type": "markdown",
     "metadata": {},
     "source": [
      "Next, we will move into how to inject dynamic data in templates. But first you need to exit the Python console:"
     ]
    },
    {
     "cell_type": "code",
     "collapsed": true,
     "input": [
      "exit()"
     ],
     "language": "python",
     "metadata": {},
     "outputs": [],
     "prompt_number": null
    },
    {
     "cell_type": "heading",
     "level": 3,
     "metadata": {},
     "source": [
      "Injecting dynamic data in templates"
     ]
    },
    {
     "cell_type": "markdown",
     "metadata": {},
     "source": [
      "Now we arrive to the crucial point in this tutorial of making our posts appear in our HTML template. This is one of the key concepts of server-side computing. Take some content (models saved in the database) and dinamically create a nice HTML display i.e. create the HTML on the fly as the server responds to the HTTP request from a user. \n",
      "\n",
      "This is the tasks for the views in Django: connect models and templates. Hence, in our post_list view we will need to take models we want to display and pass them to the template. It is in the view when we decide what model will be displayed in a template. Open the *blog/views.py* file which at this stage should look like this:"
     ]
    },
    {
     "cell_type": "code",
     "collapsed": true,
     "input": [
      "from django.shortcuts import render\n",
      "# Create your views here.\n",
      "def post_list(request):\n",
      "    return render(request, 'blog/post_list.html', {})"
     ],
     "language": "python",
     "metadata": {},
     "outputs": [],
     "prompt_number": null
    },
    {
     "cell_type": "markdown",
     "metadata": {},
     "source": [
      "Now is the time to include the model we have written in *blog/models.py*. We need to add the following import to the file *blog/views.py* at the top of the file. "
     ]
    },
    {
     "cell_type": "code",
     "collapsed": true,
     "input": [
      "from .models import Post"
     ],
     "language": "python",
     "metadata": {},
     "outputs": [],
     "prompt_number": null
    },
    {
     "cell_type": "markdown",
     "metadata": {},
     "source": [
      "**Note:** The dot before models means the current directory or current application. Both *views.py* and *models.py* are in the same directory. This means we can use **.** and the name of the file (without .py). Then we import the name of the model (Post).\n",
      "\n",
      "Next, we rewrite the post_list method in the *blog/views.py* file. The final state of the file should look like the following:"
     ]
    },
    {
     "cell_type": "code",
     "collapsed": true,
     "input": [
      "from django.shortcuts import render\n",
      "from django.utils import timezone\n",
      "from .models import Post\n",
      "\n",
      "def post_list(request):\n",
      "    posts = Post.objects.filter(published_date__lte=timezone.now()).order_by('-published_date')\n",
      "    return render(request, 'blog/post_list.html', {'posts': posts})\n"
     ],
     "language": "python",
     "metadata": {},
     "outputs": [],
     "prompt_number": null
    },
    {
     "cell_type": "markdown",
     "metadata": {},
     "source": [
      "Notice that we have created a variable for our QuerySet which we named posts. We will treat this as the name of our QuerySet. In the 1st line of the post_list functions, we have basically requested from our database all blog posts with a published date previous to the present time and sorted them in reverse chronological order.\n",
      "\n",
      "In the next line, we use the render function with a request parameter (everything we receive from the user HTTP request via the Internet) and a template file parameter pointing to 'blog/post_list.html'. The last parameter, surrounded by curly braces: {} is a Python dictionary, a place in which we can add some things (Data extracted from our database for instance) for the template to use. Here we ara passing to the template the posts QuerySet. Please note that the part before : is a string; the key that points to the data value.\n",
      "\n",
      "I repeat again since understanding this is essential: ** the post_list view retrieves data from our database and subsequently loads the template called blog/post_list.html to which it passes a context (the posts QuerySet obtained from the database). The context is a dictionary mapping template variable names to Python objects.**\n",
      "\n",
      "Next, we will go back to our template and display this QuerySet. That is, we will now display the posts data stored in our database."
     ]
    },
    {
     "cell_type": "heading",
     "level": 3,
     "metadata": {},
     "source": [
      "Django templates"
     ]
    },
    {
     "cell_type": "markdown",
     "metadata": {},
     "source": [
      "One of the limitations of HTML is that we cannot embed Python code on it (because the browser cannot interpret it). Django template tags allow us to transfer Python output into HTML. This  allow us to build dynamic websites faster and easier.  Recall that in our previous steps, we passed the posts QuerySets object into our template.  In order to print a Python variable or object in a template, we use double curly brackets with the variable name inside {{ posts }}. Let\u2019s try this in your *blog/templates/blog/post_list.html* file. Replace everything within the body element with the following content:"
     ]
    },
    {
     "cell_type": "code",
     "collapsed": true,
     "input": [
      "{{ posts }}"
     ],
     "language": "python",
     "metadata": {},
     "outputs": [],
     "prompt_number": null
    },
    {
     "cell_type": "markdown",
     "metadata": {},
     "source": [
      "Now save the blog/templates/blog/post_list.html file and open the local version of your website in the browser http://127.0.0.1:8000/ (I assume that you have the server the daemon running . If not, remember to run the following command before pointing your browser to http://127.0.0.1:8000/:"
     ]
    },
    {
     "cell_type": "raw",
     "metadata": {},
     "source": [
      "> python manage.py runserver"
     ]
    },
    {
     "cell_type": "markdown",
     "metadata": {},
     "source": [
      "You should get an output rendered in your browser similar to the following, with the specific post titles you created through the Django admin interface in a previous tutorial:\n",
      "\n",
      "![](./images/wp.png)"
     ]
    },
    {
     "cell_type": "markdown",
     "metadata": {},
     "source": [
      "In order to better display the content of the posts QuerySet object, we can use Python code to iterate over the list of objects passed to the template and display each one by one. Substitute the content of the body element in  *blog/templates/blog/post_list.html* with the following code:"
     ]
    },
    {
     "cell_type": "code",
     "collapsed": true,
     "input": [
      "{% for post in posts %}\n",
      "    {{ post }} <br />\n",
      "{% endfor %}"
     ],
     "language": "python",
     "metadata": {},
     "outputs": [],
     "prompt_number": null
    },
    {
     "cell_type": "markdown",
     "metadata": {},
     "source": [
      "Notice how the template is using the posts variable passed by post_list view. The posts variable contains the list of posts that we want to display. Once again,  open the local version of your website in the browser http://127.0.0.1:8000/ (assuming you have your local server running). \n",
      " \n",
      "It works but, such a poor display of the information contained in each post instance can be improved. Let\u2019s extract some of the metadata of our posts object. Substitute, your existing code iterating over the posts object in *blog/templates/blog/post_list.html* with the following:"
     ]
    },
    {
     "cell_type": "code",
     "collapsed": true,
     "input": [
      "<h1> My Amazing Blog</h1>\n",
      "{% for post in posts %}\n",
      "    <div>\n",
      "        <h1><a href=\"\">{{ post.title }}</a></h1>\n",
      "        <p>published: {{ post.published_date }}</p>\n",
      "        <p>{{ post.text|linebreaks }}</p>\n",
      "        <br />\n",
      "    </div>\n",
      "{% endfor %}"
     ],
     "language": "python",
     "metadata": {},
     "outputs": [],
     "prompt_number": null
    },
    {
     "cell_type": "markdown",
     "metadata": {},
     "source": [
      "![](./images/wp2.png)\n",
      "\n",
      "You should notice the marked improvement in displaying the relevant information of your post objects. Notice how we are accessing data in each of the fields defined in our post model (post.title }} , {{ post.text }}). The |linebreaks is piping the posts' text through a filter to convert line-breaks into paragraphs. In a future tutorial, we will improve the look of the page by adding CSS styling."
     ]
    },
    {
     "cell_type": "heading",
     "level": 3,
     "metadata": {},
     "source": [
      "Deploy"
     ]
    },
    {
     "cell_type": "markdown",
     "metadata": {},
     "source": [
      "Last but not least, let\u2019s deploy our local configuration into the production server hosted at PythonAnywhere. At the git command shell and inside the folder hosting your project and app type:"
     ]
    },
    {
     "cell_type": "raw",
     "metadata": {},
     "source": [
      "> git status\n",
      "> git add -A .\n",
      "> git status\n",
      "> git commit -m \"Modified templates to dinamically display posts from database.\"\n",
      "> git push"
     ]
    },
    {
     "cell_type": "markdown",
     "metadata": {},
     "source": [
      "Then, log back in to https://www.pythonanywhere.com/ and go to your Bash console (or start a new one), and run:"
     ]
    },
    {
     "cell_type": "raw",
     "metadata": {},
     "source": [
      "> cd ~/my-first-blog\n",
      "> source myvenv/bin/activate \n",
      "> git pull"
     ]
    },
    {
     "cell_type": "markdown",
     "metadata": {},
     "source": [
      "Finally, hop on over to the Web tab and hit <font color=\"green\">**Reload** </font> on your web app. Your update should be live! If the blog posts on your PythonAnywhere site don't match the posts appearing on the blog hosted on your local server - that's OK. The databases on your local computer and Python Anywhere don't sync with the rest of your files since we  included the database file name in our .gitignore file. This is considered good practice in web development, always separate the physical files between your local database and the production database.\n",
      "\n",
      "You can try adding a new post in your Django admin (remember to add published_date) using your Django admin for your Python anywhere site https://www.yourUserNameGoesHere.pythonanywhere.com/admin. Then refresh your page to make sure to post appears in your website. In the next class session, we will improve the appearance of our blog."
     ]
    }
   ],
   "metadata": {}
  }
 ]
}
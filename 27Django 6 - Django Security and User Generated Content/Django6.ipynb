{
 "cells": [
  {
   "cell_type": "markdown",
   "metadata": {},
   "source": [
    "# Django 6 - Adding Draft, Security and Comments Functionality"
   ]
  },
  {
   "cell_type": "markdown",
   "metadata": {},
   "source": [
    "### Add Post Draft Functionality to your Blog"
   ]
  },
  {
   "cell_type": "markdown",
   "metadata": {},
   "source": [
    "Currently when we're creating new post using the post_new method, the post is published directly. To instead save the post as a draft, remove this line in *blog/views.py* in the post_new method:"
   ]
  },
  {
   "cell_type": "code",
   "execution_count": null,
   "metadata": {
    "collapsed": true
   },
   "outputs": [],
   "source": [
    "post.published_date = timezone.now()"
   ]
  },
  {
   "cell_type": "markdown",
   "metadata": {},
   "source": [
    "This way, new posts will be saved as drafts that we can review later on rather than being instantly published. Next, we will create the necessary code to list and publish drafts.\n",
    "\n",
    "First, we will create an icon link to a view that displays the list of post drafts (those blog posts that have been created but have not been published yet). In the file *blog/templates/blog/base.html*, right before the icon to add new posts, add the following line:"
   ]
  },
  {
   "cell_type": "code",
   "execution_count": null,
   "metadata": {
    "collapsed": true
   },
   "outputs": [],
   "source": [
    "<a href=\"{% url 'post_draft_list' %}\" class=\"top-menu\"><span class=\"glyphicon glyphicon-edit\"></span></a>"
   ]
  },
  {
   "cell_type": "markdown",
   "metadata": {
    "collapsed": true
   },
   "source": [
    "In *blog/urls.py* add:"
   ]
  },
  {
   "cell_type": "code",
   "execution_count": null,
   "metadata": {
    "collapsed": true
   },
   "outputs": [],
   "source": [
    "url(r'^drafts/$', views.post_draft_list, name='post_draft_list'),"
   ]
  },
  {
   "cell_type": "markdown",
   "metadata": {},
   "source": [
    "Now we create the corresponding view in *blog/views.py*:"
   ]
  },
  {
   "cell_type": "code",
   "execution_count": null,
   "metadata": {
    "collapsed": true
   },
   "outputs": [],
   "source": [
    "def post_draft_list(request):\n",
    "    posts = Post.objects.filter(published_date__isnull=True).order_by('-created_date')\n",
    "    return render(request, 'blog/post_draft_list.html', {'posts': posts})"
   ]
  },
  {
   "cell_type": "markdown",
   "metadata": {},
   "source": [
    "The first line of the post_draft_list method makes sure we take only unpublished posts and order them in reverse chronological order.\n",
    "\n",
    "The only piece missing is to create the corresponding template:  *blog/templates/blog/post_draft_list.html*"
   ]
  },
  {
   "cell_type": "code",
   "execution_count": null,
   "metadata": {
    "collapsed": true
   },
   "outputs": [],
   "source": [
    "{% extends 'blog/base.html' %}\n",
    "\n",
    "{% block content %}\n",
    "    {% for post in posts %}\n",
    "        <div class=\"post\">\n",
    "            <p class=\"date\">created: {{ post.created_date|date:'d-m-Y' }}</p>\n",
    "            <h1><a href=\"{% url 'blog.views.post_detail' pk=post.pk %}\">{{ post.title }}</a></h1>\n",
    "            <p>{{ post.text|truncatechars:200 }}</p>\n",
    "        </div>\n",
    "    {% endfor %}\n",
    "{% endblock %}"
   ]
  },
  {
   "cell_type": "markdown",
   "metadata": {},
   "source": [
    "Finally, run the local version of the server:"
   ]
  },
  {
   "cell_type": "raw",
   "metadata": {},
   "source": [
    "> python manage.py runserver"
   ]
  },
  {
   "cell_type": "markdown",
   "metadata": {},
   "source": [
    "Go to http://127.0.0.1:8000/, and add a new post. Notice that because of the changes we made to the the post_new method in the *blog/views.py* file, this post is not going to be automatically published when you click the save button of the new post form. Verify this yourself.\n",
    "\n",
    "Now, click on the icon we just added to display the list of unpublished posts\n",
    "![](./images/drafts.png)\n",
    "or, alternatively you can go directly to the URL (http://127.0.0.1:8000/drafts/) which we have designated to list all the posts created but yet unpublished.  Verify that you can see a list of unpublished posts.\n",
    "\n",
    "Finally, let's add a publish functionality so we can transition unpublished posts into published posts.\n",
    "\n",
    "We will add  a button on the blog post detail page that will immediately publish the post.  Open the *blog/template/blog/post_detail.html* file and substitute the following lines:"
   ]
  },
  {
   "cell_type": "code",
   "execution_count": null,
   "metadata": {
    "collapsed": true
   },
   "outputs": [],
   "source": [
    "{% if post.published_date %}\n",
    "    <div class=\"date\">\n",
    "        {{ post.published_date }}\n",
    "    </div>\n",
    "{% endif %}"
   ]
  },
  {
   "cell_type": "markdown",
   "metadata": {},
   "source": [
    "for:"
   ]
  },
  {
   "cell_type": "code",
   "execution_count": null,
   "metadata": {
    "collapsed": true
   },
   "outputs": [],
   "source": [
    "{% if post.published_date %}\n",
    "    <div class=\"date\">\n",
    "        {{ post.published_date }}\n",
    "    </div>\n",
    "{% else %}\n",
    "    <a class=\"btn btn-default\" href=\"{% url 'blog.views.post_publish' pk=post.pk %}\">Publish</a>    \n",
    "{% endif %}"
   ]
  },
  {
   "cell_type": "markdown",
   "metadata": {},
   "source": [
    "With this change we have specified that  if the condition post.published_date  is not fulfilled, then we want to create a button that offers the possibility of publishing the current post. Note that we are passing a pk variable in the {% url %} that identifies a given post (pk is the primary key associated with a post in the Database)."
   ]
  },
  {
   "cell_type": "markdown",
   "metadata": {},
   "source": [
    " Now we create a URL (in *blog/urls.py*):"
   ]
  },
  {
   "cell_type": "code",
   "execution_count": null,
   "metadata": {
    "collapsed": true
   },
   "outputs": [],
   "source": [
    "url(r'^post/(?P<pk>\\d+)/publish/$', views.post_publish, name='post_publish'),"
   ]
  },
  {
   "cell_type": "markdown",
   "metadata": {},
   "source": [
    "and a view in *blog/views.py*:"
   ]
  },
  {
   "cell_type": "code",
   "execution_count": null,
   "metadata": {
    "collapsed": true
   },
   "outputs": [],
   "source": [
    "def post_publish(request, pk):\n",
    "    post = get_object_or_404(Post, pk=pk)\n",
    "    post.publish()\n",
    "    return redirect('blog.views.post_detail', pk=pk)"
   ]
  },
  {
   "cell_type": "markdown",
   "metadata": {},
   "source": [
    "Notice how we are using the method *publish* in the Post model. Check out also how the publish button appears now when you look at a draft of a post.\n",
    "\n",
    "![](./images/draftPost.png)\n",
    "\n",
    "Finally, notice also how immediately after publishing the post, the application redirects the user immediately to the post_detail page.\n",
    "\n",
    "The last bit of work in this section will be to add a button to delete a post. Open the *blog/templates/blog/post_detail.html* file and add the following line under the line the edit button:"
   ]
  },
  {
   "cell_type": "code",
   "execution_count": null,
   "metadata": {
    "collapsed": true
   },
   "outputs": [],
   "source": [
    "<a class=\"btn btn-default\" href=\"{% url 'post_remove' pk=post.pk %}\"><span class=\"glyphicon glyphicon-remove\"></span></a>"
   ]
  },
  {
   "cell_type": "markdown",
   "metadata": {},
   "source": [
    "Add the following URL in *blog/urls.py*:"
   ]
  },
  {
   "cell_type": "code",
   "execution_count": null,
   "metadata": {
    "collapsed": true
   },
   "outputs": [],
   "source": [
    "url(r'^post/(?P<pk>\\d+)/remove/$', views.post_remove, name='post_remove'),"
   ]
  },
  {
   "cell_type": "markdown",
   "metadata": {},
   "source": [
    "and the following view in *blog/views.py* to remove a post:"
   ]
  },
  {
   "cell_type": "code",
   "execution_count": 2,
   "metadata": {
    "collapsed": true
   },
   "outputs": [],
   "source": [
    "def post_remove(request, pk):\n",
    "    post = get_object_or_404(Post, pk=pk)\n",
    "    post.delete()\n",
    "    return redirect('blog.views.post_list')"
   ]
  },
  {
   "cell_type": "markdown",
   "metadata": {},
   "source": [
    "Every Django model can be deleted with the .delete() method. After deleting a post we want to go to the webpage with a list of posts, so we are using redirect.\n",
    "\n",
    "Lastly, simply verify that you can delete both published and unpublished posts http://127.0.0.1:8000/post/1/.\n",
    "\n",
    "![](./images/delete.png)"
   ]
  },
  {
   "cell_type": "markdown",
   "metadata": {},
   "source": [
    "### Security"
   ]
  },
  {
   "cell_type": "markdown",
   "metadata": {},
   "source": [
    "You might have noticed that the level of security of our blog application is very primitive. If you go to http://127.0.0.1:8000 in a browser that you have not used to sign into the admin interface http://127.0.0.1:8000/admin, The icons to add, edit, publish or delete a post are missing, But you can still access the page to create a new post http://127.0.0.1:8000/post/new/ even though you cannot save  the post. However, someone could easily remove a post by going to the URL http://127.0.0.1:8000/post/X/remove Where the X stands for any of your post primary keys (PKs). Let's improve our currently deeply flawed security layer.\n",
    "\n",
    "We will protect our post_new, post_edit, post_draft_list, post_remove and post_publish views so that only logged-in users can access them. Django ships with some nice helpers for that using, an advanced Python topic, called decorators.\n",
    "\n",
    "\n",
    "A decorator is the name used for a software design pattern. Decorators dynamically alter the functionality of a function, method, or class without having to directly use subclasses or change the source code of the function being decorated. Fortunately, you don't need to worry about the specifics of how they work.  \n",
    "\n",
    "One of the main advantages of using a web development framework, is that a lot of work has already been done for you. Instead of you having to develop yourself certain Web security features such as authentication, you can use that the framework provides to accomplish those tasks. We will use a decorator built in Django (in the module django.contrib.auth.decorators) called login_required which basically provides the functionality of not letting unauthenticated users to access certain functions in our web applications.\n",
    "\n",
    "Edit your *blog/views.py* file and add this line at the top along with the rest of the imports:"
   ]
  },
  {
   "cell_type": "code",
   "execution_count": null,
   "metadata": {
    "collapsed": true
   },
   "outputs": [],
   "source": [
    "from django.contrib.auth.decorators import login_required"
   ]
  },
  {
   "cell_type": "markdown",
   "metadata": {},
   "source": [
    "Then add a line before each of the post_new, post_edit, post_draft_list, post_remove and post_publish views (decorating them) like the following:"
   ]
  },
  {
   "cell_type": "code",
   "execution_count": null,
   "metadata": {
    "collapsed": true
   },
   "outputs": [],
   "source": [
    "@login_required\n",
    "def post_new(request):\n",
    "    #The rest of your view goes here"
   ]
  },
  {
   "cell_type": "markdown",
   "metadata": {},
   "source": [
    "Notice how now if you try to access http://localhost:8000/admin) http://localhost:8000/post/new/ or http://localhost:8000/post/X/remove/ **from a browser where you have not previously log in** through the admin interface you will get an error message.\n",
    "\n",
    "\n",
    "![](./images/error.png)"
   ]
  },
  {
   "cell_type": "markdown",
   "metadata": {},
   "source": [
    "The decorator we added before will redirect you to the login page. But that isn't available yet, so it raises a \"Page not found.\n",
    "\n",
    "Now we will take advantage of the authentication functionality provided inbuilt within Django. In the file *mysite/urls.py*, substitute the current content with the following:"
   ]
  },
  {
   "cell_type": "code",
   "execution_count": null,
   "metadata": {
    "collapsed": true
   },
   "outputs": [],
   "source": [
    "from django.conf.urls import patterns, include, url\n",
    "\n",
    "from django.contrib import admin\n",
    "admin.autodiscover()\n",
    "\n",
    "urlpatterns = patterns('',\n",
    "    url(r'^admin/', include(admin.site.urls)),\n",
    "    url(r'^accounts/login/$', 'django.contrib.auth.views.login'),\n",
    "    url(r'', include('blog.urls')),\n",
    ")"
   ]
  },
  {
   "cell_type": "markdown",
   "metadata": {},
   "source": [
    "Now we need a template for the login page, create a directory *blog/templates/registration* and a file inside named *login.html*:"
   ]
  },
  {
   "cell_type": "code",
   "execution_count": null,
   "metadata": {
    "collapsed": true
   },
   "outputs": [],
   "source": [
    "{% extends \"blog/base.html\" %}\n",
    "\n",
    "{% block content %}\n",
    "\n",
    "{% if form.errors %}\n",
    "<p>Your username and password didn't match. Please try again.</p>\n",
    "{% endif %}\n",
    "\n",
    "<form method=\"post\" action=\"{% url 'django.contrib.auth.views.login' %}\">\n",
    "{% csrf_token %}\n",
    "<table>\n",
    "<tr>\n",
    "    <td>{{ form.username.label_tag }}</td>\n",
    "    <td>{{ form.username }}</td>\n",
    "</tr>\n",
    "<tr>\n",
    "    <td>{{ form.password.label_tag }}</td>\n",
    "    <td>{{ form.password }}</td>\n",
    "</tr>\n",
    "</table>\n",
    "\n",
    "<input type=\"submit\" value=\"login\" />\n",
    "<input type=\"hidden\" name=\"next\" value=\"{{ next }}\" />\n",
    "</form>\n",
    "\n",
    "{% endblock %}"
   ]
  },
  {
   "cell_type": "markdown",
   "metadata": {},
   "source": [
    "Thanks to Django inbuilt security functionality, we don't have to deal with encrypting forms submission nor with sanitizing passwords and securing them, it is all taken care of for us. The last bit remaining for us to do  is to add the following setting to *mysite/settings.py*:"
   ]
  },
  {
   "cell_type": "raw",
   "metadata": {},
   "source": [
    "LOGIN_REDIRECT_URL = '/'"
   ]
  },
  {
   "cell_type": "markdown",
   "metadata": {},
   "source": [
    "now, assuming you have not previously log in through the admin interface (http://127.0.0.1:8000/admin/) if you try to go for instance to http://127.0.0.1:8000/post/new/ or http://127.0.0.1:8000/post/1/remove, you will be redirected, to the previous template where you can input your username and password.\n",
    "\n",
    "![](./images/login.png)\n",
    "\n",
    "Obviously, after loging in you should be able to see the icons to add, edit or remove a post.\n",
    "\n",
    "Finally, let's add some visual feedback to the user to indicate whether the user is logged in or not and to provide functionality to log in and out. In the *blog/templates/blog/base.html* file substitute the entire div of class=\"page-header\", with the following:"
   ]
  },
  {
   "cell_type": "code",
   "execution_count": null,
   "metadata": {
    "collapsed": true
   },
   "outputs": [],
   "source": [
    "<div class=\"page-header\">\n",
    "    {% if user.is_authenticated %}\n",
    "    <a href=\"{% url 'post_new' %}\" class=\"top-menu\"><span class=\"glyphicon glyphicon-plus\"></span></a>\n",
    "    <a href=\"{% url 'post_draft_list' %}\" class=\"top-menu\"><span class=\"glyphicon glyphicon-edit\"></span></a>\n",
    "    <p class=\"top-menu\">Hello {{ user.username }}<small>(<a href=\"{% url 'django.contrib.auth.views.logout' %}\">Log out</a>)</small></p>\n",
    "    {% else %}\n",
    "    <a href=\"{% url 'django.contrib.auth.views.login' %}\" class=\"top-menu\"><span class=\"glyphicon glyphicon-lock\"></span></a>\n",
    "    {% endif %}\n",
    "    <h1><a href=\"{% url 'blog.views.post_list' %}\">My Amazing Blog</a></h1>\n",
    "</div>"
   ]
  },
  {
   "cell_type": "markdown",
   "metadata": {},
   "source": [
    "Change also the urlpatterns list in *mysite/urls.py* with the following:"
   ]
  },
  {
   "cell_type": "code",
   "execution_count": null,
   "metadata": {
    "collapsed": true
   },
   "outputs": [],
   "source": [
    "urlpatterns = patterns('',\n",
    "    url(r'^admin/', include(admin.site.urls)),\n",
    "    url(r'^accounts/login/$', 'django.contrib.auth.views.login'),\n",
    "    url(r'^accounts/logout/$', 'django.contrib.auth.views.logout', {'next_page': '/'}),\n",
    "    url(r'', include('blog.urls')),\n",
    ")"
   ]
  },
  {
   "cell_type": "markdown",
   "metadata": {},
   "source": [
    "And that's it, you have added a basic layer of security to your application."
   ]
  },
  {
   "cell_type": "markdown",
   "metadata": {},
   "source": [
    "### Create comments in our blog"
   ]
  },
  {
   "cell_type": "markdown",
   "metadata": {},
   "source": [
    "Currently our application has a single model (Post). We can extend our application by adding the functionality of users leaving comments for a specific post. In order to do that we need to create a Comment model.\n",
    "\n",
    "Open *blog/models.py* and append this piece of code to the end of file in order to create a model for the information contained in a comment."
   ]
  },
  {
   "cell_type": "code",
   "execution_count": null,
   "metadata": {
    "collapsed": true
   },
   "outputs": [],
   "source": [
    "class Comment(models.Model):\n",
    "    post = models.ForeignKey('blog.Post', related_name='comments')\n",
    "    author = models.CharField(max_length=200)\n",
    "    text = models.TextField()\n",
    "    created_date = models.DateTimeField(default=timezone.now)\n",
    "    approved_comment = models.BooleanField(default=False)\n",
    "\n",
    "    def approve(self):\n",
    "        self.approved_comment = True\n",
    "        self.save()\n",
    "\n",
    "    def __str__(self):\n",
    "        return self.text"
   ]
  },
  {
   "cell_type": "markdown",
   "metadata": {},
   "source": [
    "**Notice that we link the Comment model to the Post model through the usage of a foreign key.**\n",
    "\n",
    "Next, we add our comment model to the database. To do this we have to tell Django that we made changes to our model."
   ]
  },
  {
   "cell_type": "raw",
   "metadata": {},
   "source": [
    "> python manage.py makemigrations"
   ]
  },
  {
   "cell_type": "markdown",
   "metadata": {},
   "source": [
    "this command created another migration file (0002_comment.py) for us in the *blog/migrations/* directory. Now we need to apply those changes by typing:"
   ]
  },
  {
   "cell_type": "raw",
   "metadata": {},
   "source": [
    "> python manage.py migrate"
   ]
  },
  {
   "cell_type": "markdown",
   "metadata": {},
   "source": [
    "Our Comment model exists now in the database. To register the Comment model in the admin panel, go to *blog/admin.py* and import the Comment model at the top of the file:"
   ]
  },
  {
   "cell_type": "code",
   "execution_count": null,
   "metadata": {
    "collapsed": true
   },
   "outputs": [],
   "source": [
    "from .models import Post, Comment"
   ]
  },
  {
   "cell_type": "markdown",
   "metadata": {},
   "source": [
    "And add the following code at the bottom of the file to register the Comment model and to customize how the entries should display in the admin interface:"
   ]
  },
  {
   "cell_type": "code",
   "execution_count": null,
   "metadata": {
    "collapsed": true
   },
   "outputs": [],
   "source": [
    "class CommentAdmin(admin.ModelAdmin):\n",
    "    list_display = ['author','post','created_date','approved_comment']\n",
    "\n",
    "\n",
    "admin.site.register(Comment,CommentAdmin)"
   ]
  },
  {
   "cell_type": "markdown",
   "metadata": {},
   "source": [
    "If you type python manage.py runserver on the command line and go to http://127.0.0.1:8000/admin/ in your browser, you should have access to the list of comments, and also the capability to add and remove comments.\n",
    " \n",
    "Next, let's make our comments visible. Go to the *blog/templates/blog/post_detail.html* file and add the following lines before the {% endblock %} tag:"
   ]
  },
  {
   "cell_type": "code",
   "execution_count": null,
   "metadata": {
    "collapsed": true
   },
   "outputs": [],
   "source": [
    "<hr>\n",
    "{% for comment in post.comments.all %}\n",
    "    <div class=\"comment\">\n",
    "        <div class=\"date\">{{ comment.created_date }}</div>\n",
    "        <strong>{{ comment.author }}</strong>\n",
    "        <p>{{ comment.text|linebreaks }}</p>\n",
    "    </div>\n",
    "{% empty %}\n",
    "    <p>No comments here yet :(</p>\n",
    "{% endfor %}"
   ]
  },
  {
   "cell_type": "markdown",
   "metadata": {},
   "source": [
    "Now we can see the comments section on pages with post details. But it could look a little bit better, so let's add some CSS to the bottom of the *static/css/blog.css* file:"
   ]
  },
  {
   "cell_type": "raw",
   "metadata": {},
   "source": [
    ".comment {\n",
    "    margin: 20px 0px 50px 20px;\n",
    "    font-size: 0.75em;\n",
    "    color: brown;\t\n",
    "}"
   ]
  },
  {
   "cell_type": "markdown",
   "metadata": {},
   "source": [
    "We can also let visitors know about comments on the post list page. Go to the *blog/templates/blog/post_list.html* file and add the following line right before the closing div tag with class \"post\" (i.e right after the line with post.text|linebreaks):"
   ]
  },
  {
   "cell_type": "code",
   "execution_count": null,
   "metadata": {
    "collapsed": true
   },
   "outputs": [],
   "source": [
    "<a href=\"{% url 'blog.views.post_detail' pk=post.pk %}\">Comments: {{ post.comments.count }}</a>"
   ]
  },
  {
   "cell_type": "markdown",
   "metadata": {},
   "source": [
    "The only task left to do, is to let the readers write comments. In the file *blog/forms.py*, modify the import of the Post model to also include the import of the Comment model:"
   ]
  },
  {
   "cell_type": "code",
   "execution_count": null,
   "metadata": {
    "collapsed": true
   },
   "outputs": [],
   "source": [
    "from .models import Post, Comment"
   ]
  },
  {
   "cell_type": "markdown",
   "metadata": {},
   "source": [
    "and add the following lines to the end:"
   ]
  },
  {
   "cell_type": "code",
   "execution_count": null,
   "metadata": {
    "collapsed": true
   },
   "outputs": [],
   "source": [
    "class CommentForm(forms.ModelForm):\n",
    "    class Meta:\n",
    "        model = Comment\n",
    "        fields = ('author', 'text',)"
   ]
  },
  {
   "cell_type": "markdown",
   "metadata": {},
   "source": [
    "Now, go to *blog/templates/blog/post_detail.html* and before the line {% for comment in post.comments.all %}, add:"
   ]
  },
  {
   "cell_type": "code",
   "execution_count": null,
   "metadata": {
    "collapsed": true
   },
   "outputs": [],
   "source": [
    "<a class=\"btn btn-default\" href=\"{% url 'add_comment_to_post' pk=post.pk %}\">Add comment</a>"
   ]
  },
  {
   "cell_type": "markdown",
   "metadata": {},
   "source": [
    "Next, go to blog/urls.py and add this pattern to urlpatterns:"
   ]
  },
  {
   "cell_type": "code",
   "execution_count": null,
   "metadata": {
    "collapsed": true
   },
   "outputs": [],
   "source": [
    "url(r'^post/(?P<pk>\\d+)/comment/$', views.add_comment_to_post, name='add_comment_to_post'),"
   ]
  },
  {
   "cell_type": "markdown",
   "metadata": {},
   "source": [
    "Add the corresponding view in *blog/views.py*:"
   ]
  },
  {
   "cell_type": "code",
   "execution_count": null,
   "metadata": {
    "collapsed": true
   },
   "outputs": [],
   "source": [
    "from .forms import PostForm, CommentForm\n",
    "\n",
    "def add_comment_to_post(request, pk):\n",
    "    post = get_object_or_404(Post, pk=pk)\n",
    "    if request.method == \"POST\":\n",
    "        form = CommentForm(request.POST)\n",
    "        if form.is_valid():\n",
    "            comment = form.save(commit=False)\n",
    "            comment.post = post\n",
    "            comment.save()\n",
    "            return redirect('blog.views.post_detail', pk=post.pk)\n",
    "    else:\n",
    "        form = CommentForm()\n",
    "    return render(request, 'blog/add_comment_to_post.html', {'form': form})"
   ]
  },
  {
   "cell_type": "markdown",
   "metadata": {},
   "source": [
    "And the template *blog/templates/blog/add_comment_to_post.html*:"
   ]
  },
  {
   "cell_type": "code",
   "execution_count": null,
   "metadata": {
    "collapsed": true
   },
   "outputs": [],
   "source": [
    "{% extends 'blog/base.html' %}\n",
    "\n",
    "{% block content %}\n",
    "    <h1>New comment</h1>\n",
    "    <form method=\"POST\" class=\"post-form\">{% csrf_token %}\n",
    "        {{ form.as_p }}\n",
    "        <button type=\"submit\" class=\"save btn btn-default\">Send</button>\n",
    "    </form>\n",
    "{% endblock %}"
   ]
  },
  {
   "cell_type": "markdown",
   "metadata": {},
   "source": [
    "and this is it, on the post detail pages, you should see the \"Add Comment\" button through which users should be able to add comments to posts.\n",
    "\n",
    "![](./images/button.png)"
   ]
  },
  {
   "cell_type": "markdown",
   "metadata": {},
   "source": [
    "### Deploying our progress"
   ]
  },
  {
   "cell_type": "markdown",
   "metadata": {},
   "source": [
    "Let’s upload today’s practical advances to our production server. Once again, from your git console type:"
   ]
  },
  {
   "cell_type": "raw",
   "metadata": {},
   "source": [
    "> git status\n",
    "> git add -A .\n",
    "> git status\n",
    "> git commit -m \"Added Draft, Security and Comments features\"\n",
    "> git push"
   ]
  },
  {
   "cell_type": "markdown",
   "metadata": {},
   "source": [
    "Then, log back in to https://www.pythonanywhere.com/ and go to your Bash console (or start a new one), and run:"
   ]
  },
  {
   "cell_type": "raw",
   "metadata": {},
   "source": [
    "> cd ~/my-first-blog\n",
    "> source myvenv/bin/activate \n",
    "> python manage.py makemigrations\n",
    "> python manage.py migrate\n",
    "> git pull"
   ]
  },
  {
   "cell_type": "markdown",
   "metadata": {},
   "source": [
    "Finally, hop on over to the Web tab and hit <font color=\"green\">**Reload** </font> on your web app. Your update should be live!"
   ]
  }
 ],
 "metadata": {
  "kernelspec": {
   "display_name": "Python 3",
   "language": "python",
   "name": "python3"
  },
  "language_info": {
   "codemirror_mode": {
    "name": "ipython",
    "version": 3
   },
   "file_extension": ".py",
   "mimetype": "text/x-python",
   "name": "python",
   "nbconvert_exporter": "python",
   "pygments_lexer": "ipython3",
   "version": "3.5.1"
  }
 },
 "nbformat": 4,
 "nbformat_minor": 0
}
